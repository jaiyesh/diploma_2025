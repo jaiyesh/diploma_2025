{
 "cells": [
  {
   "cell_type": "markdown",
   "metadata": {},
   "source": [
    "# for loops:\n",
    "\n",
    "- utilise the power of computations by running iterations on iterables(orderedcollections): list, tuples, str, dict\n",
    "\n",
    "- for loop will go inside the list and it will take elements one by one at differebt indexes and perform the actions"
   ]
  },
  {
   "cell_type": "code",
   "execution_count": 1,
   "metadata": {},
   "outputs": [],
   "source": [
    "poro = [0.2,0.4,0.7,0.4,0.3,0.6,0.21,0.11,0.01]"
   ]
  },
  {
   "cell_type": "code",
   "execution_count": 2,
   "metadata": {},
   "outputs": [
    {
     "data": {
      "text/plain": [
       "[0.2, 0.4, 0.7, 0.4, 0.3, 0.6, 0.21, 0.11, 0.01]"
      ]
     },
     "execution_count": 2,
     "metadata": {},
     "output_type": "execute_result"
    }
   ],
   "source": [
    "poro"
   ]
  },
  {
   "cell_type": "code",
   "execution_count": 3,
   "metadata": {},
   "outputs": [
    {
     "name": "stdout",
     "output_type": "stream",
     "text": [
      "0.2\n",
      "0.4\n",
      "0.7\n"
     ]
    }
   ],
   "source": [
    "print(poro[0])\n",
    "print(poro[1])\n",
    "print(poro[2])"
   ]
  },
  {
   "cell_type": "code",
   "execution_count": 5,
   "metadata": {},
   "outputs": [
    {
     "data": {
      "text/plain": [
       "[0.2, 0.4, 0.7, 0.4, 0.3, 0.6, 0.21, 0.11, 0.01]"
      ]
     },
     "execution_count": 5,
     "metadata": {},
     "output_type": "execute_result"
    }
   ],
   "source": [
    "poro"
   ]
  },
  {
   "cell_type": "code",
   "execution_count": 4,
   "metadata": {},
   "outputs": [
    {
     "name": "stdout",
     "output_type": "stream",
     "text": [
      "0.2\n",
      "0.4\n",
      "0.7\n",
      "0.4\n",
      "0.3\n",
      "0.6\n",
      "0.21\n",
      "0.11\n",
      "0.01\n"
     ]
    }
   ],
   "source": [
    "for i in poro:\n",
    "    \n",
    "    print(i)"
   ]
  },
  {
   "cell_type": "code",
   "execution_count": 6,
   "metadata": {},
   "outputs": [
    {
     "name": "stdout",
     "output_type": "stream",
     "text": [
      "0.2\n",
      "end of iteration\n",
      "0.4\n",
      "end of iteration\n",
      "0.7\n",
      "end of iteration\n",
      "0.4\n",
      "end of iteration\n",
      "0.3\n",
      "end of iteration\n",
      "0.6\n",
      "end of iteration\n",
      "0.21\n",
      "end of iteration\n",
      "0.11\n",
      "end of iteration\n",
      "0.01\n",
      "end of iteration\n",
      "outside\n"
     ]
    }
   ],
   "source": [
    "for i in poro:\n",
    "    print(i)\n",
    "    print(\"end of iteration\")\n",
    "    \n",
    "print(\"outside\")"
   ]
  },
  {
   "cell_type": "code",
   "execution_count": 7,
   "metadata": {},
   "outputs": [],
   "source": [
    "perm = (23,34,45,65,84,34,47)"
   ]
  },
  {
   "cell_type": "code",
   "execution_count": 8,
   "metadata": {},
   "outputs": [
    {
     "name": "stdout",
     "output_type": "stream",
     "text": [
      "23\n",
      "34\n",
      "45\n",
      "65\n",
      "84\n",
      "34\n",
      "47\n"
     ]
    }
   ],
   "source": [
    "for i in perm:\n",
    "    print(i)"
   ]
  },
  {
   "cell_type": "code",
   "execution_count": 10,
   "metadata": {},
   "outputs": [
    {
     "data": {
      "text/plain": [
       "(45, 65, 84, 34)"
      ]
     },
     "execution_count": 10,
     "metadata": {},
     "output_type": "execute_result"
    }
   ],
   "source": [
    "perm[2:6]"
   ]
  },
  {
   "cell_type": "code",
   "execution_count": 9,
   "metadata": {},
   "outputs": [
    {
     "name": "stdout",
     "output_type": "stream",
     "text": [
      "45\n",
      "65\n",
      "84\n",
      "34\n"
     ]
    }
   ],
   "source": [
    "for i in perm[2:6]:\n",
    "    print(i)"
   ]
  },
  {
   "cell_type": "code",
   "execution_count": 11,
   "metadata": {},
   "outputs": [],
   "source": [
    "s = \"Porosity and Permeability\""
   ]
  },
  {
   "cell_type": "code",
   "execution_count": 12,
   "metadata": {},
   "outputs": [
    {
     "name": "stdout",
     "output_type": "stream",
     "text": [
      "P\n",
      "o\n",
      "r\n",
      "o\n",
      "s\n",
      "i\n",
      "t\n",
      "y\n",
      " \n",
      "a\n",
      "n\n",
      "d\n",
      " \n",
      "P\n",
      "e\n",
      "r\n",
      "m\n",
      "e\n",
      "a\n",
      "b\n",
      "i\n",
      "l\n",
      "i\n",
      "t\n",
      "y\n"
     ]
    }
   ],
   "source": [
    "for i in s:\n",
    "    print(i)"
   ]
  },
  {
   "cell_type": "code",
   "execution_count": 13,
   "metadata": {},
   "outputs": [
    {
     "data": {
      "text/plain": [
       "(23, 34, 45, 65, 84, 34, 47)"
      ]
     },
     "execution_count": 13,
     "metadata": {},
     "output_type": "execute_result"
    }
   ],
   "source": [
    "perm"
   ]
  },
  {
   "cell_type": "code",
   "execution_count": 14,
   "metadata": {},
   "outputs": [
    {
     "data": {
      "text/plain": [
       "7"
      ]
     },
     "execution_count": 14,
     "metadata": {},
     "output_type": "execute_result"
    }
   ],
   "source": [
    "len(perm)"
   ]
  },
  {
   "cell_type": "code",
   "execution_count": 15,
   "metadata": {},
   "outputs": [
    {
     "data": {
      "text/plain": [
       "range(0, 7)"
      ]
     },
     "execution_count": 15,
     "metadata": {},
     "output_type": "execute_result"
    }
   ],
   "source": [
    "range(len(perm))"
   ]
  },
  {
   "cell_type": "code",
   "execution_count": 16,
   "metadata": {},
   "outputs": [
    {
     "data": {
      "text/plain": [
       "[0, 1, 2, 3, 4, 5, 6]"
      ]
     },
     "execution_count": 16,
     "metadata": {},
     "output_type": "execute_result"
    }
   ],
   "source": [
    "list(range(len(perm)))"
   ]
  },
  {
   "cell_type": "code",
   "execution_count": 18,
   "metadata": {},
   "outputs": [
    {
     "name": "stdout",
     "output_type": "stream",
     "text": [
      "23\n",
      "34\n",
      "45\n",
      "65\n",
      "84\n",
      "34\n",
      "47\n"
     ]
    }
   ],
   "source": [
    "for i in range(len(perm)):\n",
    "    print(perm[i])"
   ]
  },
  {
   "cell_type": "code",
   "execution_count": 19,
   "metadata": {},
   "outputs": [
    {
     "name": "stdout",
     "output_type": "stream",
     "text": [
      "23\n",
      "34\n",
      "45\n",
      "65\n",
      "84\n",
      "34\n",
      "47\n"
     ]
    }
   ],
   "source": [
    "for i in perm:\n",
    "    print(i)"
   ]
  },
  {
   "cell_type": "code",
   "execution_count": 29,
   "metadata": {},
   "outputs": [],
   "source": [
    "specific_gravity = [0.2,0.3,0.4,0.12,0.45,0.65,0.923]"
   ]
  },
  {
   "cell_type": "code",
   "execution_count": 30,
   "metadata": {},
   "outputs": [
    {
     "name": "stdout",
     "output_type": "stream",
     "text": [
      "API Gravity of crude oil corresponding to specific gravity of 0.2 is 576.0\n",
      "API Gravity of crude oil corresponding to specific gravity of 0.3 is 340.1666666666667\n",
      "API Gravity of crude oil corresponding to specific gravity of 0.4 is 222.25\n",
      "API Gravity of crude oil corresponding to specific gravity of 0.12 is 1047.6666666666667\n",
      "API Gravity of crude oil corresponding to specific gravity of 0.45 is 182.94444444444446\n",
      "API Gravity of crude oil corresponding to specific gravity of 0.65 is 86.19230769230768\n",
      "API Gravity of crude oil corresponding to specific gravity of 0.923 is 21.804442036836406\n",
      "List for API gravities is: [576.0, 340.1666666666667, 222.25, 1047.6666666666667, 182.94444444444446, 86.19230769230768, 21.804442036836406]\n"
     ]
    }
   ],
   "source": [
    "API = []\n",
    "\n",
    "for i in specific_gravity:\n",
    "    api = (141.5/i) - 131.5\n",
    "    API.append(api)\n",
    "    \n",
    "    print(f\"API Gravity of crude oil corresponding to specific gravity of {i} is {api}\")\n",
    "    \n",
    "print(f\"List for API gravities is: {API}\")"
   ]
  },
  {
   "cell_type": "code",
   "execution_count": 31,
   "metadata": {},
   "outputs": [
    {
     "data": {
      "text/plain": [
       "[576.0,\n",
       " 340.1666666666667,\n",
       " 222.25,\n",
       " 1047.6666666666667,\n",
       " 182.94444444444446,\n",
       " 86.19230769230768,\n",
       " 21.804442036836406]"
      ]
     },
     "execution_count": 31,
     "metadata": {},
     "output_type": "execute_result"
    }
   ],
   "source": [
    "API"
   ]
  },
  {
   "cell_type": "code",
   "execution_count": 32,
   "metadata": {},
   "outputs": [
    {
     "data": {
      "text/plain": [
       "7"
      ]
     },
     "execution_count": 32,
     "metadata": {},
     "output_type": "execute_result"
    }
   ],
   "source": [
    "len(API)"
   ]
  },
  {
   "cell_type": "code",
   "execution_count": 33,
   "metadata": {},
   "outputs": [
    {
     "data": {
      "text/plain": [
       "7"
      ]
     },
     "execution_count": 33,
     "metadata": {},
     "output_type": "execute_result"
    }
   ],
   "source": [
    "len(perm)"
   ]
  },
  {
   "cell_type": "code",
   "execution_count": 44,
   "metadata": {},
   "outputs": [],
   "source": [
    "field_names = [\"Ankleshwar\",\"Cambay\",\"Kalol\",\"Kosamba\",\"Mehsana\",\"Dholka\",\"Nowgam\"]"
   ]
  },
  {
   "cell_type": "code",
   "execution_count": 35,
   "metadata": {},
   "outputs": [
    {
     "data": {
      "text/plain": [
       "7"
      ]
     },
     "execution_count": 35,
     "metadata": {},
     "output_type": "execute_result"
    }
   ],
   "source": [
    "len(field_names)"
   ]
  },
  {
   "cell_type": "code",
   "execution_count": 36,
   "metadata": {},
   "outputs": [
    {
     "data": {
      "text/plain": [
       "(23, 34, 45, 65, 84, 34, 47)"
      ]
     },
     "execution_count": 36,
     "metadata": {},
     "output_type": "execute_result"
    }
   ],
   "source": [
    "perm"
   ]
  },
  {
   "cell_type": "code",
   "execution_count": 39,
   "metadata": {},
   "outputs": [
    {
     "data": {
      "text/plain": [
       "[0.2, 0.3, 0.4, 0.12, 0.45, 0.65, 0.923]"
      ]
     },
     "execution_count": 39,
     "metadata": {},
     "output_type": "execute_result"
    }
   ],
   "source": [
    "specific_gravity"
   ]
  },
  {
   "cell_type": "code",
   "execution_count": 37,
   "metadata": {},
   "outputs": [
    {
     "data": {
      "text/plain": [
       "[576.0,\n",
       " 340.1666666666667,\n",
       " 222.25,\n",
       " 1047.6666666666667,\n",
       " 182.94444444444446,\n",
       " 86.19230769230768,\n",
       " 21.804442036836406]"
      ]
     },
     "execution_count": 37,
     "metadata": {},
     "output_type": "execute_result"
    }
   ],
   "source": [
    "API"
   ]
  },
  {
   "cell_type": "code",
   "execution_count": 38,
   "metadata": {},
   "outputs": [],
   "source": [
    "# The permeability of Ankleshwar field is 23md and specific gravity of crude present there is 0.2"
   ]
  },
  {
   "cell_type": "markdown",
   "metadata": {},
   "source": [
    "# Zip "
   ]
  },
  {
   "cell_type": "code",
   "execution_count": 41,
   "metadata": {},
   "outputs": [
    {
     "data": {
      "text/plain": [
       "[('Ankleshwar', 23, 0.2),\n",
       " ('Cambay', 34, 0.3),\n",
       " ('Kalol', 45, 0.4),\n",
       " ('Kosamba', 65, 0.12),\n",
       " ('Mehsana', 84, 0.45),\n",
       " ('Dholka', 34, 0.65),\n",
       " ('Nowgam', 47, 0.923)]"
      ]
     },
     "execution_count": 41,
     "metadata": {},
     "output_type": "execute_result"
    }
   ],
   "source": [
    "list(zip(field_names,perm,specific_gravity))"
   ]
  },
  {
   "cell_type": "code",
   "execution_count": 42,
   "metadata": {},
   "outputs": [
    {
     "name": "stdout",
     "output_type": "stream",
     "text": [
      "The permeability of Ankleshwar field is 23md and specific gravity of crude present there is 0.2\n",
      "The permeability of Cambay field is 34md and specific gravity of crude present there is 0.3\n",
      "The permeability of Kalol field is 45md and specific gravity of crude present there is 0.4\n",
      "The permeability of Kosamba field is 65md and specific gravity of crude present there is 0.12\n",
      "The permeability of Mehsana field is 84md and specific gravity of crude present there is 0.45\n",
      "The permeability of Dholka field is 34md and specific gravity of crude present there is 0.65\n",
      "The permeability of Nowgam field is 47md and specific gravity of crude present there is 0.923\n"
     ]
    }
   ],
   "source": [
    "for i,j,k in zip(field_names,perm,specific_gravity):\n",
    "    print(f\"The permeability of {i} field is {j}md and specific gravity of crude present there is {k}\")"
   ]
  },
  {
   "cell_type": "code",
   "execution_count": 45,
   "metadata": {},
   "outputs": [],
   "source": [
    "a = [2,3,4,5]\n",
    "b = [5,6,7,8]"
   ]
  },
  {
   "cell_type": "code",
   "execution_count": 46,
   "metadata": {},
   "outputs": [
    {
     "ename": "TypeError",
     "evalue": "can't multiply sequence by non-int of type 'list'",
     "output_type": "error",
     "traceback": [
      "\u001b[1;31m---------------------------------------------------------------------------\u001b[0m",
      "\u001b[1;31mTypeError\u001b[0m                                 Traceback (most recent call last)",
      "\u001b[1;32m<ipython-input-46-8ce765dcfa30>\u001b[0m in \u001b[0;36m<module>\u001b[1;34m\u001b[0m\n\u001b[1;32m----> 1\u001b[1;33m \u001b[0ma\u001b[0m\u001b[1;33m*\u001b[0m\u001b[0mb\u001b[0m\u001b[1;33m\u001b[0m\u001b[1;33m\u001b[0m\u001b[0m\n\u001b[0m",
      "\u001b[1;31mTypeError\u001b[0m: can't multiply sequence by non-int of type 'list'"
     ]
    }
   ],
   "source": [
    "a*b"
   ]
  },
  {
   "cell_type": "code",
   "execution_count": 47,
   "metadata": {},
   "outputs": [],
   "source": [
    "c = []\n",
    "\n",
    "for i,j in zip(a,b):\n",
    "    m = i*j\n",
    "    \n",
    "    c.append(m)"
   ]
  },
  {
   "cell_type": "code",
   "execution_count": 48,
   "metadata": {},
   "outputs": [
    {
     "data": {
      "text/plain": [
       "[10, 18, 28, 40]"
      ]
     },
     "execution_count": 48,
     "metadata": {},
     "output_type": "execute_result"
    }
   ],
   "source": [
    "c"
   ]
  },
  {
   "cell_type": "code",
   "execution_count": 49,
   "metadata": {},
   "outputs": [
    {
     "data": {
      "text/plain": [
       "['Ankleshwar', 'Cambay', 'Kalol', 'Kosamba', 'Mehsana', 'Dholka', 'Nowgam']"
      ]
     },
     "execution_count": 49,
     "metadata": {},
     "output_type": "execute_result"
    }
   ],
   "source": [
    "field_names\n"
   ]
  },
  {
   "cell_type": "code",
   "execution_count": 50,
   "metadata": {},
   "outputs": [
    {
     "data": {
      "text/plain": [
       "(23, 34, 45, 65, 84, 34, 47)"
      ]
     },
     "execution_count": 50,
     "metadata": {},
     "output_type": "execute_result"
    }
   ],
   "source": [
    "perm"
   ]
  },
  {
   "cell_type": "code",
   "execution_count": 51,
   "metadata": {},
   "outputs": [
    {
     "data": {
      "text/plain": [
       "[0.2, 0.3, 0.4, 0.12, 0.45, 0.65, 0.923]"
      ]
     },
     "execution_count": 51,
     "metadata": {},
     "output_type": "execute_result"
    }
   ],
   "source": [
    "specific_gravity"
   ]
  },
  {
   "cell_type": "code",
   "execution_count": 52,
   "metadata": {},
   "outputs": [],
   "source": [
    "field_properties={\n",
    "    \n",
    "    \"Ankleshwar\":{\"Permeability\":23,\"Specific Gravity\":0.2}\n",
    "    \n",
    "}"
   ]
  },
  {
   "cell_type": "code",
   "execution_count": 53,
   "metadata": {},
   "outputs": [
    {
     "data": {
      "text/plain": [
       "{'Ankleshwar': {'Permeability': 23, 'Specific Gravity': 0.2}}"
      ]
     },
     "execution_count": 53,
     "metadata": {},
     "output_type": "execute_result"
    }
   ],
   "source": [
    "field_properties"
   ]
  },
  {
   "cell_type": "code",
   "execution_count": 54,
   "metadata": {},
   "outputs": [
    {
     "data": {
      "text/plain": [
       "[('Ankleshwar', 23, 0.2),\n",
       " ('Cambay', 34, 0.3),\n",
       " ('Kalol', 45, 0.4),\n",
       " ('Kosamba', 65, 0.12),\n",
       " ('Mehsana', 84, 0.45),\n",
       " ('Dholka', 34, 0.65),\n",
       " ('Nowgam', 47, 0.923)]"
      ]
     },
     "execution_count": 54,
     "metadata": {},
     "output_type": "execute_result"
    }
   ],
   "source": [
    "list(zip(field_names,perm,specific_gravity))"
   ]
  },
  {
   "cell_type": "code",
   "execution_count": 57,
   "metadata": {},
   "outputs": [],
   "source": [
    "field_properties = {}\n",
    "\n",
    "for i,j,k in zip(field_names,perm,specific_gravity):\n",
    "    \n",
    "    field_properties[i] = {\"Permeability\":j,\"Specific Gravity\":k}"
   ]
  },
  {
   "cell_type": "code",
   "execution_count": 58,
   "metadata": {},
   "outputs": [
    {
     "data": {
      "text/plain": [
       "{'Ankleshwar': {'Permeability': 23, 'Specific Gravity': 0.2},\n",
       " 'Cambay': {'Permeability': 34, 'Specific Gravity': 0.3},\n",
       " 'Kalol': {'Permeability': 45, 'Specific Gravity': 0.4},\n",
       " 'Kosamba': {'Permeability': 65, 'Specific Gravity': 0.12},\n",
       " 'Mehsana': {'Permeability': 84, 'Specific Gravity': 0.45},\n",
       " 'Dholka': {'Permeability': 34, 'Specific Gravity': 0.65},\n",
       " 'Nowgam': {'Permeability': 47, 'Specific Gravity': 0.923}}"
      ]
     },
     "execution_count": 58,
     "metadata": {},
     "output_type": "execute_result"
    }
   ],
   "source": [
    "field_properties"
   ]
  },
  {
   "cell_type": "code",
   "execution_count": 60,
   "metadata": {},
   "outputs": [
    {
     "data": {
      "text/plain": [
       "34"
      ]
     },
     "execution_count": 60,
     "metadata": {},
     "output_type": "execute_result"
    }
   ],
   "source": [
    "field_properties[\"Cambay\"][\"Permeability\"]"
   ]
  },
  {
   "cell_type": "code",
   "execution_count": 61,
   "metadata": {},
   "outputs": [
    {
     "data": {
      "text/plain": [
       "[0.2, 0.4, 0.7, 0.4, 0.3, 0.6, 0.21, 0.11, 0.01]"
      ]
     },
     "execution_count": 61,
     "metadata": {},
     "output_type": "execute_result"
    }
   ],
   "source": [
    "poro"
   ]
  },
  {
   "cell_type": "code",
   "execution_count": 63,
   "metadata": {},
   "outputs": [
    {
     "name": "stdout",
     "output_type": "stream",
     "text": [
      "0.2\n",
      "0.4\n",
      "0.7\n",
      "0.4\n",
      "0.3\n",
      "0.6\n",
      "0.21\n",
      "0.11\n",
      "0.01\n"
     ]
    }
   ],
   "source": [
    "for i in poro:\n",
    "    print(i)"
   ]
  },
  {
   "cell_type": "code",
   "execution_count": 64,
   "metadata": {},
   "outputs": [
    {
     "data": {
      "text/plain": [
       "0.01"
      ]
     },
     "execution_count": 64,
     "metadata": {},
     "output_type": "execute_result"
    }
   ],
   "source": [
    "i"
   ]
  },
  {
   "cell_type": "code",
   "execution_count": 65,
   "metadata": {},
   "outputs": [
    {
     "data": {
      "text/plain": [
       "{'Ankleshwar': {'Permeability': 23, 'Specific Gravity': 0.2},\n",
       " 'Cambay': {'Permeability': 34, 'Specific Gravity': 0.3},\n",
       " 'Kalol': {'Permeability': 45, 'Specific Gravity': 0.4},\n",
       " 'Kosamba': {'Permeability': 65, 'Specific Gravity': 0.12},\n",
       " 'Mehsana': {'Permeability': 84, 'Specific Gravity': 0.45},\n",
       " 'Dholka': {'Permeability': 34, 'Specific Gravity': 0.65},\n",
       " 'Nowgam': {'Permeability': 47, 'Specific Gravity': 0.923}}"
      ]
     },
     "execution_count": 65,
     "metadata": {},
     "output_type": "execute_result"
    }
   ],
   "source": [
    "field_properties"
   ]
  },
  {
   "cell_type": "code",
   "execution_count": 66,
   "metadata": {},
   "outputs": [
    {
     "ename": "KeyError",
     "evalue": "3",
     "output_type": "error",
     "traceback": [
      "\u001b[1;31m---------------------------------------------------------------------------\u001b[0m",
      "\u001b[1;31mKeyError\u001b[0m                                  Traceback (most recent call last)",
      "\u001b[1;32m<ipython-input-66-c03381a99f9e>\u001b[0m in \u001b[0;36m<module>\u001b[1;34m\u001b[0m\n\u001b[1;32m----> 1\u001b[1;33m \u001b[0mfield_properties\u001b[0m\u001b[1;33m[\u001b[0m\u001b[1;36m3\u001b[0m\u001b[1;33m]\u001b[0m\u001b[1;33m\u001b[0m\u001b[1;33m\u001b[0m\u001b[0m\n\u001b[0m",
      "\u001b[1;31mKeyError\u001b[0m: 3"
     ]
    }
   ],
   "source": [
    "field_properties[3]"
   ]
  },
  {
   "cell_type": "markdown",
   "metadata": {},
   "source": [
    "# if-else: to run a block of code only if a certain condition is true.\n",
    "\n",
    "- identation: block of code"
   ]
  },
  {
   "cell_type": "code",
   "execution_count": 73,
   "metadata": {},
   "outputs": [
    {
     "name": "stdout",
     "output_type": "stream",
     "text": [
      "Write the condition: 544==544\n",
      "The statement is True\n",
      "If block executed\n",
      "This is outside if-else block\n"
     ]
    }
   ],
   "source": [
    "statement = input(\"Write the condition: \")\n",
    "\n",
    "if eval(statement):\n",
    "    \n",
    "    print(\"The statement is True\")\n",
    "    print(\"If block executed\")\n",
    "    \n",
    "else:\n",
    "    print(\"The statement is false\")\n",
    "    print(\"Else block executed\")\n",
    "    \n",
    "print(\"This is outside if-else block\")"
   ]
  },
  {
   "cell_type": "code",
   "execution_count": 74,
   "metadata": {},
   "outputs": [
    {
     "name": "stdout",
     "output_type": "stream",
     "text": [
      "The statement is True\n",
      "If block executed\n"
     ]
    }
   ],
   "source": [
    "if True:\n",
    "    \n",
    "    print(\"The statement is True\")\n",
    "    print(\"If block executed\")\n",
    "    \n",
    "else:\n",
    "    print(\"The statement is false\")\n",
    "    print(\"Else block executed\")"
   ]
  },
  {
   "cell_type": "code",
   "execution_count": 75,
   "metadata": {},
   "outputs": [
    {
     "name": "stdout",
     "output_type": "stream",
     "text": [
      "The statement is false\n",
      "Else block executed\n"
     ]
    }
   ],
   "source": [
    "if False:\n",
    "    \n",
    "    print(\"The statement is True\")\n",
    "    print(\"If block executed\")\n",
    "    \n",
    "else:\n",
    "    print(\"The statement is false\")\n",
    "    print(\"Else block executed\")"
   ]
  },
  {
   "cell_type": "markdown",
   "metadata": {},
   "source": [
    "### elif: if+else"
   ]
  },
  {
   "cell_type": "code",
   "execution_count": 76,
   "metadata": {},
   "outputs": [
    {
     "name": "stdout",
     "output_type": "stream",
     "text": [
      "Enter the initial Reservoir Pressure(psia): 1800\n",
      "Enter the bubble point pressure of Reservoir fluid(psia): 1900\n",
      "Reservoir Pressure(1800.0 psi) is lesser than bubble point of crude(1900.0 psi)\n",
      "Gas has evolved in reservoir, TWO PHASES are present\n"
     ]
    }
   ],
   "source": [
    "Pr = float(input(\"Enter the initial Reservoir Pressure(psia): \"))\n",
    "Pb = float(input(\"Enter the bubble point pressure of Reservoir fluid(psia): \"))\n",
    "\n",
    "\n",
    "if Pr>Pb:\n",
    "    print(f\"Reservoir Pressure({Pr} psi) is greater than bubble point of crude({Pb} psi)\")\n",
    "    print(\"Reservoir is UNDERSATURATED\")\n",
    "    \n",
    "elif Pr==Pb:\n",
    "    print(f\"Reservoir Pressure({Pr} psi) is equal to bubble point of crude({Pb} psi)\")\n",
    "    print(\"Reservoir is SATURATED\")\n",
    "    \n",
    "else:\n",
    "    print(f\"Reservoir Pressure({Pr} psi) is lesser than bubble point of crude({Pb} psi)\")\n",
    "    print(\"Gas has evolved in reservoir, TWO PHASES are present\")"
   ]
  },
  {
   "cell_type": "code",
   "execution_count": 77,
   "metadata": {},
   "outputs": [],
   "source": [
    "pressure = [2500,3500,4300,5500,6500,1200,1000,800]\n"
   ]
  },
  {
   "cell_type": "code",
   "execution_count": 78,
   "metadata": {},
   "outputs": [
    {
     "data": {
      "text/plain": [
       "[2500, 3500, 4300, 5500, 6500, 1200, 1000, 800]"
      ]
     },
     "execution_count": 78,
     "metadata": {},
     "output_type": "execute_result"
    }
   ],
   "source": [
    "pressure"
   ]
  },
  {
   "cell_type": "code",
   "execution_count": 79,
   "metadata": {},
   "outputs": [],
   "source": [
    "## 2 lists: low pressure, highpressure\n",
    "\n",
    "## low pressure: pressure < 4000 psi\n",
    "\n",
    "## high pressure: pressure>= 4000 psi"
   ]
  },
  {
   "cell_type": "code",
   "execution_count": 86,
   "metadata": {},
   "outputs": [
    {
     "name": "stdout",
     "output_type": "stream",
     "text": [
      "Pressure 2500 is less than 4000psi, so it's a low pressure.\n",
      "Pressure 3500 is less than 4000psi, so it's a low pressure.\n",
      "Pressure 4300 is greater than or equal to 4000psi, so it's  high pressure.\n",
      "Pressure 5500 is greater than or equal to 4000psi, so it's  high pressure.\n",
      "Pressure 6500 is greater than or equal to 4000psi, so it's  high pressure.\n",
      "Pressure 1200 is less than 4000psi, so it's a low pressure.\n",
      "Pressure 1000 is less than 4000psi, so it's a low pressure.\n",
      "Pressure 800 is less than 4000psi, so it's a low pressure.\n"
     ]
    }
   ],
   "source": [
    "low_p = []\n",
    "high_p = []\n",
    "\n",
    "\n",
    "for p in pressure:\n",
    "    \n",
    "    if p<4000:\n",
    "        print(f\"Pressure {p} is less than 4000psi, so it's a low pressure.\")\n",
    "        low_p.append(p)\n",
    "        \n",
    "    else:\n",
    "        print(f\"Pressure {p} is greater than or equal to 4000psi, so it's  high pressure.\")\n",
    "        high_p.append(p)\n"
   ]
  },
  {
   "cell_type": "code",
   "execution_count": 87,
   "metadata": {},
   "outputs": [
    {
     "data": {
      "text/plain": [
       "[2500, 3500, 1200, 1000, 800]"
      ]
     },
     "execution_count": 87,
     "metadata": {},
     "output_type": "execute_result"
    }
   ],
   "source": [
    "low_p"
   ]
  },
  {
   "cell_type": "code",
   "execution_count": 88,
   "metadata": {},
   "outputs": [
    {
     "data": {
      "text/plain": [
       "[4300, 5500, 6500]"
      ]
     },
     "execution_count": 88,
     "metadata": {},
     "output_type": "execute_result"
    }
   ],
   "source": [
    "high_p"
   ]
  },
  {
   "cell_type": "code",
   "execution_count": null,
   "metadata": {},
   "outputs": [],
   "source": []
  }
 ],
 "metadata": {
  "kernelspec": {
   "display_name": "Python 3",
   "language": "python",
   "name": "python3"
  },
  "language_info": {
   "codemirror_mode": {
    "name": "ipython",
    "version": 3
   },
   "file_extension": ".py",
   "mimetype": "text/x-python",
   "name": "python",
   "nbconvert_exporter": "python",
   "pygments_lexer": "ipython3",
   "version": "3.7.4"
  }
 },
 "nbformat": 4,
 "nbformat_minor": 2
}
