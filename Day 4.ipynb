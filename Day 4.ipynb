{
 "cells": [
  {
   "cell_type": "markdown",
   "metadata": {},
   "source": [
    "## Range: Generate Data"
   ]
  },
  {
   "cell_type": "code",
   "execution_count": 1,
   "metadata": {},
   "outputs": [
    {
     "data": {
      "text/plain": [
       "range(0, 10)"
      ]
     },
     "execution_count": 1,
     "metadata": {},
     "output_type": "execute_result"
    }
   ],
   "source": [
    "range(10)"
   ]
  },
  {
   "cell_type": "code",
   "execution_count": 2,
   "metadata": {},
   "outputs": [
    {
     "data": {
      "text/plain": [
       "[0, 1, 2, 3, 4, 5, 6, 7, 8, 9]"
      ]
     },
     "execution_count": 2,
     "metadata": {},
     "output_type": "execute_result"
    }
   ],
   "source": [
    "list(range(0,10))"
   ]
  },
  {
   "cell_type": "code",
   "execution_count": 3,
   "metadata": {},
   "outputs": [
    {
     "data": {
      "text/plain": [
       "[1, 2, 3, 4, 5, 6, 7, 8, 9, 10]"
      ]
     },
     "execution_count": 3,
     "metadata": {},
     "output_type": "execute_result"
    }
   ],
   "source": [
    "list(range(1,11))"
   ]
  },
  {
   "cell_type": "code",
   "execution_count": 4,
   "metadata": {},
   "outputs": [
    {
     "data": {
      "text/plain": [
       "[1, 3, 5, 7, 9]"
      ]
     },
     "execution_count": 4,
     "metadata": {},
     "output_type": "execute_result"
    }
   ],
   "source": [
    "list(range(1,10,2))"
   ]
  },
  {
   "cell_type": "code",
   "execution_count": 5,
   "metadata": {},
   "outputs": [
    {
     "data": {
      "text/plain": [
       "[20, 19, 18, 17, 16, 15, 14, 13, 12, 11, 10, 9, 8, 7, 6, 5, 4, 3, 2, 1, 0, -1]"
      ]
     },
     "execution_count": 5,
     "metadata": {},
     "output_type": "execute_result"
    }
   ],
   "source": [
    "list(range(20,-2,-1))"
   ]
  },
  {
   "cell_type": "code",
   "execution_count": 6,
   "metadata": {},
   "outputs": [
    {
     "data": {
      "text/plain": [
       "[2,\n",
       " 4,\n",
       " 6,\n",
       " 8,\n",
       " 10,\n",
       " 12,\n",
       " 14,\n",
       " 16,\n",
       " 18,\n",
       " 20,\n",
       " 22,\n",
       " 24,\n",
       " 26,\n",
       " 28,\n",
       " 30,\n",
       " 32,\n",
       " 34,\n",
       " 36,\n",
       " 38,\n",
       " 40,\n",
       " 42,\n",
       " 44,\n",
       " 46,\n",
       " 48,\n",
       " 50,\n",
       " 52,\n",
       " 54,\n",
       " 56,\n",
       " 58,\n",
       " 60,\n",
       " 62,\n",
       " 64,\n",
       " 66,\n",
       " 68,\n",
       " 70,\n",
       " 72,\n",
       " 74,\n",
       " 76,\n",
       " 78,\n",
       " 80,\n",
       " 82,\n",
       " 84,\n",
       " 86,\n",
       " 88,\n",
       " 90,\n",
       " 92,\n",
       " 94,\n",
       " 96,\n",
       " 98,\n",
       " 100]"
      ]
     },
     "execution_count": 6,
     "metadata": {},
     "output_type": "execute_result"
    }
   ],
   "source": [
    "## list of all even number from 2 to 100\n",
    "\n",
    "list(range(2,101,2))"
   ]
  },
  {
   "cell_type": "code",
   "execution_count": 7,
   "metadata": {},
   "outputs": [
    {
     "data": {
      "text/plain": [
       "[2,\n",
       " 4,\n",
       " 6,\n",
       " 8,\n",
       " 10,\n",
       " 12,\n",
       " 14,\n",
       " 16,\n",
       " 18,\n",
       " 20,\n",
       " 22,\n",
       " 24,\n",
       " 26,\n",
       " 28,\n",
       " 30,\n",
       " 32,\n",
       " 34,\n",
       " 36,\n",
       " 38,\n",
       " 40,\n",
       " 42,\n",
       " 44,\n",
       " 46,\n",
       " 48,\n",
       " 50,\n",
       " 52,\n",
       " 54,\n",
       " 56,\n",
       " 58,\n",
       " 60,\n",
       " 62,\n",
       " 64,\n",
       " 66,\n",
       " 68,\n",
       " 70,\n",
       " 72,\n",
       " 74,\n",
       " 76,\n",
       " 78,\n",
       " 80,\n",
       " 82,\n",
       " 84,\n",
       " 86,\n",
       " 88,\n",
       " 90,\n",
       " 92,\n",
       " 94,\n",
       " 96,\n",
       " 98,\n",
       " 100]"
      ]
     },
     "execution_count": 7,
     "metadata": {},
     "output_type": "execute_result"
    }
   ],
   "source": [
    "list(range(2,102,2))"
   ]
  },
  {
   "cell_type": "code",
   "execution_count": 9,
   "metadata": {},
   "outputs": [
    {
     "name": "stdout",
     "output_type": "stream",
     "text": [
      "Lower Bound: 2\n",
      "Upper Bound: 100\n",
      "Step size: 2\n",
      "[2, 4, 6, 8, 10, 12, 14, 16, 18, 20, 22, 24, 26, 28, 30, 32, 34, 36, 38, 40, 42, 44, 46, 48, 50, 52, 54, 56, 58, 60, 62, 64, 66, 68, 70, 72, 74, 76, 78, 80, 82, 84, 86, 88, 90, 92, 94, 96, 98]\n"
     ]
    }
   ],
   "source": [
    "a = int(input(\"Lower Bound: \"))\n",
    "b = int(input(\"Upper Bound: \"))\n",
    "c = int(input(\"Step size: \"))\n",
    "\n",
    "user_list = list(range(a,b,c))\n",
    "\n",
    "print(user_list)"
   ]
  },
  {
   "cell_type": "markdown",
   "metadata": {},
   "source": [
    "## Data Structure : tuples\n",
    "\n",
    "- (-----)\n",
    "\n",
    "- int, floats, strings, lists, boolean, tuple\n",
    "\n",
    "- Immutable: cannot change elements, sensistive information is stoored in tuples"
   ]
  },
  {
   "cell_type": "code",
   "execution_count": 10,
   "metadata": {},
   "outputs": [],
   "source": [
    "oilprd = (5000,1000,1400,4200,5000)"
   ]
  },
  {
   "cell_type": "code",
   "execution_count": 11,
   "metadata": {},
   "outputs": [
    {
     "data": {
      "text/plain": [
       "(5000, 1000, 1400, 4200, 5000)"
      ]
     },
     "execution_count": 11,
     "metadata": {},
     "output_type": "execute_result"
    }
   ],
   "source": [
    "oilprd"
   ]
  },
  {
   "cell_type": "code",
   "execution_count": 12,
   "metadata": {},
   "outputs": [
    {
     "data": {
      "text/plain": [
       "tuple"
      ]
     },
     "execution_count": 12,
     "metadata": {},
     "output_type": "execute_result"
    }
   ],
   "source": [
    "type(oilprd)"
   ]
  },
  {
   "cell_type": "code",
   "execution_count": 13,
   "metadata": {},
   "outputs": [],
   "source": [
    "##indexing: same as list"
   ]
  },
  {
   "cell_type": "code",
   "execution_count": 14,
   "metadata": {},
   "outputs": [
    {
     "data": {
      "text/plain": [
       "4200"
      ]
     },
     "execution_count": 14,
     "metadata": {},
     "output_type": "execute_result"
    }
   ],
   "source": [
    "oilprd[3]"
   ]
  },
  {
   "cell_type": "code",
   "execution_count": 15,
   "metadata": {},
   "outputs": [
    {
     "ename": "TypeError",
     "evalue": "'tuple' object does not support item assignment",
     "output_type": "error",
     "traceback": [
      "\u001b[1;31m---------------------------------------------------------------------------\u001b[0m",
      "\u001b[1;31mTypeError\u001b[0m                                 Traceback (most recent call last)",
      "\u001b[1;32m<ipython-input-15-5bae7ceb9dcc>\u001b[0m in \u001b[0;36m<module>\u001b[1;34m\u001b[0m\n\u001b[1;32m----> 1\u001b[1;33m \u001b[0moilprd\u001b[0m\u001b[1;33m[\u001b[0m\u001b[1;36m3\u001b[0m\u001b[1;33m]\u001b[0m \u001b[1;33m=\u001b[0m \u001b[1;36m3200\u001b[0m\u001b[1;33m\u001b[0m\u001b[1;33m\u001b[0m\u001b[0m\n\u001b[0m",
      "\u001b[1;31mTypeError\u001b[0m: 'tuple' object does not support item assignment"
     ]
    }
   ],
   "source": [
    "oilprd[3] = 3200"
   ]
  },
  {
   "cell_type": "code",
   "execution_count": 16,
   "metadata": {},
   "outputs": [],
   "source": [
    "oilprd_list = list(oilprd)"
   ]
  },
  {
   "cell_type": "code",
   "execution_count": 17,
   "metadata": {},
   "outputs": [
    {
     "data": {
      "text/plain": [
       "[5000, 1000, 1400, 4200, 5000]"
      ]
     },
     "execution_count": 17,
     "metadata": {},
     "output_type": "execute_result"
    }
   ],
   "source": [
    "oilprd_list"
   ]
  },
  {
   "cell_type": "code",
   "execution_count": 18,
   "metadata": {},
   "outputs": [],
   "source": [
    "oilprd_list[3] = 3200"
   ]
  },
  {
   "cell_type": "code",
   "execution_count": 19,
   "metadata": {},
   "outputs": [
    {
     "data": {
      "text/plain": [
       "[5000, 1000, 1400, 3200, 5000]"
      ]
     },
     "execution_count": 19,
     "metadata": {},
     "output_type": "execute_result"
    }
   ],
   "source": [
    "oilprd_list"
   ]
  },
  {
   "cell_type": "code",
   "execution_count": 20,
   "metadata": {},
   "outputs": [
    {
     "data": {
      "text/plain": [
       "(5000, 1000, 1400, 4200, 5000)"
      ]
     },
     "execution_count": 20,
     "metadata": {},
     "output_type": "execute_result"
    }
   ],
   "source": [
    "oilprd"
   ]
  },
  {
   "cell_type": "code",
   "execution_count": 21,
   "metadata": {},
   "outputs": [],
   "source": [
    "oilprd_copy = tuple(oilprd_list)"
   ]
  },
  {
   "cell_type": "code",
   "execution_count": 22,
   "metadata": {},
   "outputs": [
    {
     "data": {
      "text/plain": [
       "(5000, 1000, 1400, 3200, 5000)"
      ]
     },
     "execution_count": 22,
     "metadata": {},
     "output_type": "execute_result"
    }
   ],
   "source": [
    "oilprd_copy"
   ]
  },
  {
   "cell_type": "code",
   "execution_count": 23,
   "metadata": {},
   "outputs": [],
   "source": [
    "a = (45,67,2,32.5,\"Saturation\",[\"hello\",34,54],(6546,434,23,(\"perm\",87,\"porosity\")))"
   ]
  },
  {
   "cell_type": "code",
   "execution_count": 24,
   "metadata": {},
   "outputs": [
    {
     "data": {
      "text/plain": [
       "(45,\n",
       " 67,\n",
       " 2,\n",
       " 32.5,\n",
       " 'Saturation',\n",
       " ['hello', 34, 54],\n",
       " (6546, 434, 23, ('perm', 87, 'porosity')))"
      ]
     },
     "execution_count": 24,
     "metadata": {},
     "output_type": "execute_result"
    }
   ],
   "source": [
    "a"
   ]
  },
  {
   "cell_type": "code",
   "execution_count": 25,
   "metadata": {},
   "outputs": [
    {
     "data": {
      "text/plain": [
       "87"
      ]
     },
     "execution_count": 25,
     "metadata": {},
     "output_type": "execute_result"
    }
   ],
   "source": [
    "a[-1][-1][1]"
   ]
  },
  {
   "cell_type": "code",
   "execution_count": 26,
   "metadata": {},
   "outputs": [
    {
     "data": {
      "text/plain": [
       "(45,\n",
       " 67,\n",
       " 2,\n",
       " 32.5,\n",
       " 'Saturation',\n",
       " ['hello', 34, 54],\n",
       " (6546, 434, 23, ('perm', 87, 'porosity')))"
      ]
     },
     "execution_count": 26,
     "metadata": {},
     "output_type": "execute_result"
    }
   ],
   "source": [
    "a"
   ]
  },
  {
   "cell_type": "code",
   "execution_count": 27,
   "metadata": {},
   "outputs": [
    {
     "data": {
      "text/plain": [
       "(2, 'Saturation', (6546, 434, 23, ('perm', 87, 'porosity')))"
      ]
     },
     "execution_count": 27,
     "metadata": {},
     "output_type": "execute_result"
    }
   ],
   "source": [
    "a[2::2]"
   ]
  },
  {
   "cell_type": "markdown",
   "metadata": {},
   "source": [
    "## Sets= unordered collection of data\n",
    "\n",
    "- No duplication: eliminate the duplicates\n",
    "\n",
    "- Unique Data\n",
    "\n",
    "- {---}\n",
    "\n",
    "- Unordered\n",
    "\n",
    "- faster than list "
   ]
  },
  {
   "cell_type": "code",
   "execution_count": 28,
   "metadata": {},
   "outputs": [],
   "source": [
    "perm  = {2,3,4,5,6,7,2,5,7,\"h\",\"hello\",4,54,54,65,76,45,2,2,2,2,\"h\"}"
   ]
  },
  {
   "cell_type": "code",
   "execution_count": 29,
   "metadata": {},
   "outputs": [
    {
     "data": {
      "text/plain": [
       "{2, 3, 4, 45, 5, 54, 6, 65, 7, 76, 'h', 'hello'}"
      ]
     },
     "execution_count": 29,
     "metadata": {},
     "output_type": "execute_result"
    }
   ],
   "source": [
    "perm"
   ]
  },
  {
   "cell_type": "code",
   "execution_count": 30,
   "metadata": {},
   "outputs": [
    {
     "ename": "TypeError",
     "evalue": "'set' object is not subscriptable",
     "output_type": "error",
     "traceback": [
      "\u001b[1;31m---------------------------------------------------------------------------\u001b[0m",
      "\u001b[1;31mTypeError\u001b[0m                                 Traceback (most recent call last)",
      "\u001b[1;32m<ipython-input-30-2d58cad884ac>\u001b[0m in \u001b[0;36m<module>\u001b[1;34m\u001b[0m\n\u001b[1;32m----> 1\u001b[1;33m \u001b[0mperm\u001b[0m\u001b[1;33m[\u001b[0m\u001b[1;36m0\u001b[0m\u001b[1;33m]\u001b[0m\u001b[1;33m\u001b[0m\u001b[1;33m\u001b[0m\u001b[0m\n\u001b[0m",
      "\u001b[1;31mTypeError\u001b[0m: 'set' object is not subscriptable"
     ]
    }
   ],
   "source": [
    "perm[0]"
   ]
  },
  {
   "cell_type": "code",
   "execution_count": 31,
   "metadata": {},
   "outputs": [],
   "source": [
    "s = {\"PERM\",\"perm\"}"
   ]
  },
  {
   "cell_type": "code",
   "execution_count": 32,
   "metadata": {},
   "outputs": [
    {
     "data": {
      "text/plain": [
       "{'PERM', 'perm'}"
      ]
     },
     "execution_count": 32,
     "metadata": {},
     "output_type": "execute_result"
    }
   ],
   "source": [
    "s"
   ]
  },
  {
   "cell_type": "code",
   "execution_count": 33,
   "metadata": {},
   "outputs": [],
   "source": [
    "a = {2,3,4}\n",
    "b = {4,5,6}"
   ]
  },
  {
   "cell_type": "code",
   "execution_count": 34,
   "metadata": {},
   "outputs": [
    {
     "data": {
      "text/plain": [
       "{4}"
      ]
     },
     "execution_count": 34,
     "metadata": {},
     "output_type": "execute_result"
    }
   ],
   "source": [
    "a.intersection(b)"
   ]
  },
  {
   "cell_type": "code",
   "execution_count": 35,
   "metadata": {},
   "outputs": [
    {
     "data": {
      "text/plain": [
       "{2, 3, 4, 5, 6}"
      ]
     },
     "execution_count": 35,
     "metadata": {},
     "output_type": "execute_result"
    }
   ],
   "source": [
    "a.union(b)"
   ]
  },
  {
   "cell_type": "code",
   "execution_count": 36,
   "metadata": {},
   "outputs": [
    {
     "data": {
      "text/plain": [
       "{2, 3, 4}"
      ]
     },
     "execution_count": 36,
     "metadata": {},
     "output_type": "execute_result"
    }
   ],
   "source": [
    "a"
   ]
  },
  {
   "cell_type": "code",
   "execution_count": 37,
   "metadata": {},
   "outputs": [],
   "source": [
    "a.add(9)"
   ]
  },
  {
   "cell_type": "code",
   "execution_count": 38,
   "metadata": {},
   "outputs": [
    {
     "data": {
      "text/plain": [
       "{2, 3, 4, 9}"
      ]
     },
     "execution_count": 38,
     "metadata": {},
     "output_type": "execute_result"
    }
   ],
   "source": [
    "a"
   ]
  },
  {
   "cell_type": "code",
   "execution_count": 39,
   "metadata": {},
   "outputs": [
    {
     "data": {
      "text/plain": [
       "9"
      ]
     },
     "execution_count": 39,
     "metadata": {},
     "output_type": "execute_result"
    }
   ],
   "source": [
    "a.pop()"
   ]
  },
  {
   "cell_type": "code",
   "execution_count": 40,
   "metadata": {},
   "outputs": [
    {
     "data": {
      "text/plain": [
       "{2, 3, 4}"
      ]
     },
     "execution_count": 40,
     "metadata": {},
     "output_type": "execute_result"
    }
   ],
   "source": [
    "a"
   ]
  },
  {
   "cell_type": "code",
   "execution_count": 43,
   "metadata": {},
   "outputs": [],
   "source": [
    "data = \"\"\"The three laws of motion were first stated by Isaac Newton in his Philosophiæ Naturalis Principia Mathematica (Mathematical Principles of Natural Philosophy), originally published in 1687.[3] Newton used them to investigate and explain the motion of many physical objects and systems. In the time since Newton, new insights, especially around the concept of energy, built the field of classical mechanics on his foundations. Limitations to Newton's laws have also been discovered; new theories are necessary when objects move at very high speeds (special relativity), are very massive (general relativity), or are very small (quantum mechanics).\n",
    "Prerequisites\n",
    "\n",
    "Newton's laws are often stated in terms of point or particle masses, that is, bodies whose volume is negligible. This is a reasonable approximation for real bodies when the motion of internal parts can be neglected, and when the separation between bodies is much larger than the size of each. For instance, the Earth and the Sun can both be approximated as pointlike when considering the orbit of the former around the latter, but the Earth is not pointlike when considering activities on its surface.[note 1]\n",
    "\n",
    "The mathematical description of motion, or kinematics, is based on the idea of specifying positions using numerical coordinates. Movement is represented by these numbers changing over time: a body's trajectory is represented by a function that assigns to each value of a time variable the values of all the position coordinates. The simplest case is one-dimensional, that is, when a body is constrained to move only along a straight line. Its position can then be given by a single number, indicating where it is relative to some chosen reference point. For example, a body might be free to slide along a track that runs left to right, and so its location can be specified by its distance from a convenient zero point, or origin, with negative numbers indicating positions to the left and positive numbers indicating positions to the right. If the body's location as a function of time is s ( t ) {\\displaystyle s(t)}, then its average velocity over the time interval from t 0 {\\displaystyle t_{0}} to t 1 {\\displaystyle t_{1}} is[6] Δ s Δ t = s ( t 1 ) − s ( t 0 ) t 1 − t 0 . {\\displaystyle {\\frac {\\Delta s}{\\Delta t}}={\\frac {s(t_{1})-s(t_{0})}{t_{1}-t_{0}}}.}Here, the Greek letter Δ {\\displaystyle \\Delta } (delta) is used, per tradition, to mean \"change in\". A positive average velocity means that the position coordinate s {\\displaystyle s} increases over the interval in question, a negative average velocity indicates a net decrease over that interval, and an average velocity of zero means that the body ends the time interval in the same place as it began. Calculus gives the means to define an instantaneous velocity, a measure of a body's speed and direction of movement at a single moment of time, rather than over an interval. One notation for the instantaneous velocity is to replace Δ {\\displaystyle \\Delta } with the symbol d {\\displaystyle d}, for example, v = d s d t . {\\displaystyle v={\\frac {ds}{dt}}.}This denotes that the instantaneous velocity is the derivative of the position with respect to time. It can roughly be thought of as the ratio between an infinitesimally small change in position d s {\\displaystyle ds} to the infinitesimally small time interval d t {\\displaystyle dt} over which it occurs.[7] More carefully, the velocity and all other derivatives can be defined using the concept of a limit.[6] A function f ( t ) {\\displaystyle f(t)} has a limit of L {\\displaystyle L} at a given input value t 0 {\\displaystyle t_{0}} if the difference between f {\\displaystyle f} and L {\\displaystyle L} can be made arbitrarily small by choosing an input sufficiently close to t 0 {\\displaystyle t_{0}}. One writes, lim t → t 0 f ( t ) = L . {\\displaystyle \\lim _{t\\to t_{0}}f(t)=L.}Instantaneous velocity can be defined as the limit of the average velocity as the time interval shrinks to zero: d s d t = lim Δ t → 0 s ( t + Δ t ) − s ( t ) Δ t . {\\displaystyle {\\frac {ds}{dt}}=\\lim _{\\Delta t\\to 0}{\\frac {s(t+\\Delta t)-s(t)}{\\Delta t}}.} Acceleration is to velocity as velocity is to position: it is the derivative of the velocity with respect to time.[note 2] Acceleration can likewise be defined as a limit: a = d v d t = lim Δ t → 0 v ( t + Δ t ) − v ( t ) Δ t . {\\displaystyle a={\\frac {dv}{dt}}=\\lim _{\\Delta t\\to 0}{\\frac {v(t+\\Delta t)-v(t)}{\\Delta t}}.}Consequently, the acceleration is the second derivative of position,[7] often written d 2 s d t 2 {\\displaystyle {\\frac {d^{2}s}{dt^{2}}}}.\n",
    "\n",
    "Position, when thought of as a displacement from an origin point, is a vector: a quantity with both magnitude and direction.[9]: 1  Velocity and acceleration are vector quantities as well. The mathematical tools of vector algebra provide the means to describe motion in two, three or more dimensions. Vectors are often denoted with an arrow, as in s {\\displaystyle \\mathbf {s} }, or in bold typeface, such as s {\\displaystyle {\\bf {s}}}. Often, vectors are represented visually as arrows, with the direction of the vector being the direction of the arrow, and the magnitude of the vector indicated by the length of the arrow. Numerically, a vector can be represented as a list; for example, a body's velocity vector might be v = ( 3   m / s , 4   m / s ) {\\displaystyle \\mathbf {v} =(\\mathrm {3~m/s} ,\\mathrm {4~m/s} )}, indicating that it is moving at 3 metres per second along the horizontal axis and 4 metres per second along the vertical axis. The same motion described in a different coordinate system will be represented by different numbers, and vector algebra can be used to translate between these alternatives.[9]: 4 \n",
    "\n",
    "The study of mechanics is complicated by the fact that household words like energy are used with a technical meaning.[10] Moreover, words which are synonymous in everyday speech are not so in physics: force is not the same as power or pressure, for example, and mass has a different meaning than weight.[11][12]: 150  The physics concept of force makes quantitative the everyday idea of a push or a pull. Forces in Newtonian mechanics are often due to strings and ropes, friction, muscle effort, gravity, and so forth. Like displacement, velocity, and acceleration, force is a vector quantity.\n",
    "Laws\n",
    "First law\n",
    "see caption\n",
    "Artificial satellites move along curved orbits, rather than in straight lines, because of the Earth's gravity.\n",
    "\n",
    "Translated from Latin, Newton's first law reads,\n",
    "\n",
    "    Every object perseveres in its state of rest, or of uniform motion in a right line, except insofar as it is compelled to change that state by forces impressed thereon.[note 3]\n",
    "\n",
    "Newton's first law expresses the principle of inertia: the natural behavior of a body is to move in a straight line at constant speed. A body's motion preserves the status quo, but external forces can perturb this.\n",
    "\n",
    "The modern understanding of Newton's first law is that no inertial observer is privileged over any other. The concept of an inertial observer makes quantitative the everyday idea of feeling no effects of motion. For example, a person standing on the ground watching a train go past is an inertial observer. If the observer on the ground sees the train moving smoothly in a straight line at a constant speed, then a passenger sitting on the train will also be an inertial observer: the train passenger feels no motion. The principle expressed by Newton's first law is that there is no way to say which inertial observer is \"really\" moving and which is \"really\" standing still. One observer's state of rest is another observer's state of uniform motion in a straight line, and no experiment can deem either point of view to be correct or incorrect. There is no absolute standard of rest.[17][14]: 62–63 [18]: 7–9  Newton himself believed that absolute space and time existed, but that the only measures of space or time accessible to experiment are relative.[19]\n",
    "Second law\n",
    "\n",
    "    The change of motion of an object is proportional to the force impressed; and is made in the direction of the straight line in which the force is impressed.[14]: 114 \n",
    "\n",
    "By \"motion\", Newton meant the quantity now called momentum, which depends upon the amount of matter contained in a body, the speed at which that body is moving, and the direction in which it is moving.[20] In modern notation, the momentum of a body is the product of its mass and its velocity: p = m v , {\\displaystyle \\mathbf {p} =m\\mathbf {v} \\,,} where all three quantities can change over time. Newton's second law, in modern form, states that the time derivative of the momentum is the force: F = d p d t . {\\displaystyle \\mathbf {F} ={\\frac {d\\mathbf {p} }{dt}}\\,.} If the mass m {\\displaystyle m} does not change with time, then the derivative acts only upon the velocity, and so the force equals the product of the mass and the time derivative of the velocity, which is the acceleration:[21] F = m d v d t = m a . {\\displaystyle \\mathbf {F} =m{\\frac {d\\mathbf {v} }{dt}}=m\\mathbf {a} \\,.} As the acceleration is the second derivative of position with respect to time, this can also be written F = m d 2 s d t 2 . {\\displaystyle \\mathbf {F} =m{\\frac {d^{2}\\mathbf {s} }{dt^{2}}}.}\n",
    "A free body diagram for a block on an inclined plane, illustrating the normal force perpendicular to the plane (N), the downward force of gravity (mg), and a force f along the direction of the plane that could be applied, for example, by friction or a string\n",
    "\n",
    "The forces acting on a body add as vectors, and so the total force on a body depends upon both the magnitudes and the directions of the individual forces. When the net force on a body is equal to zero, then by Newton's second law, the body does not accelerate, and it is said to be in mechanical equilibrium. A state of mechanical equilibrium is stable if, when the position of the body is changed slightly, the body remains near that equilibrium. Otherwise, the equilibrium is unstable.\n",
    "\n",
    "A common visual representation of forces acting in concert is the free body diagram, which schematically portrays a body of interest and the forces applied to it by outside influences.[22] For example, a free body diagram of a block sitting upon an inclined plane can illustrate the combination of gravitational force, \"normal\" force, friction, and string tension.[note 4]\n",
    "\n",
    "Newton's second law is sometimes presented as a definition of force, i.e., a force is that which exists when an inertial observer sees a body accelerating. In order for this to be more than a tautology — acceleration implies force, force implies acceleration — some other statement about force must also be made. For example, an equation detailing the force might be specified, like Newton's law of universal gravitation. By inserting such an expression for F {\\displaystyle \\mathbf {F} } into Newton's second law, an equation with predictive power can be written.[note 5] Newton's second law has also been regarded as setting out a research program for physics, establishing that important goals of the subject are to identify the forces present in nature and to catalogue the constituents of matter.[14]: 134 [25]: 12-2 \n",
    "Third law\n",
    "\n",
    "    To every action, there is always opposed an equal reaction; or, the mutual actions of two bodies upon each other are always equal, and directed to contrary parts.[14]: 116 \n",
    "\n",
    "Rockets work by producing a strong reaction force downwards using rocket engines. This pushes the rocket upwards, without regard to the ground or the atmosphere.\n",
    "\n",
    "Overly brief paraphrases of the third law, like \"action equals reaction\" might have caused confusion among generations of students: the \"action\" and \"reaction\" apply to different bodies. For example, consider a book at rest on a table. The Earth's gravity pulls down upon the book. The \"reaction\" to that \"action\" is not the support force from the table holding up the book, but the gravitational pull of the book acting on the Earth.[note 6]\n",
    "\n",
    "Newton's third law relates to a more fundamental principle, the conservation of momentum. The latter remains true even in cases where Newton's statement does not, for instance when force fields as well as material bodies carry momentum, and when momentum is defined properly, in quantum mechanics as well.[note 7] In Newtonian mechanics, if two bodies have momenta p 1 {\\displaystyle \\mathbf {p} _{1}} and p 2 {\\displaystyle \\mathbf {p} _{2}} respectively, then the total momentum of the pair is p = p 1 + p 2 {\\displaystyle \\mathbf {p} =\\mathbf {p} _{1}+\\mathbf {p} _{2}}, and the rate of change of p {\\displaystyle \\mathbf {p} } is d p d t = d p 1 d t + d p 2 d t . {\\displaystyle {\\frac {d\\mathbf {p} }{dt}}={\\frac {d\\mathbf {p} _{1}}{dt}}+{\\frac {d\\mathbf {p} _{2}}{dt}}.} By Newton's second law, the first term is the total force upon the first body, and the second term is the total force upon the second body. If the two bodies are isolated from outside influences, the only force upon the first body can be that from the second, and vice versa. By Newton's third law, these forces have equal magnitude but opposite direction, so they cancel when added, and p {\\displaystyle \\mathbf {p} } is constant. Alternatively, if p {\\displaystyle \\mathbf {p} } is known to be constant, it follows that the forces have equal magnitude and opposite direction.\n",
    "Candidates for additional laws\n",
    "\n",
    "Various sources have proposed elevating other ideas used in classical mechanics to the status of Newton's laws. For example, in Newtonian mechanics, the total mass of a body made by bringing together two smaller bodies is the sum of their individual masses. Frank Wilczek has suggested calling attention to this assumption by designating it \"Newton's Zeroth Law\".[33] Another candidate for a \"zeroth law\" is the fact that at any instant, a body reacts to the forces applied to it at that instant.[34] Likewise, the idea that forces add like vectors (or in other words obey the superposition principle), and the idea that forces change the energy of a body, have both been described as a \"fourth law\".[note 8]\n",
    "Examples\n",
    "\n",
    "The study of the behavior of massive bodies using Newton's laws is known as Newtonian mechanics. Some example problems in Newtonian mechanics are particularly noteworthy for conceptual or historical reasons.\n",
    "Uniformly accelerated motion\n",
    "Main articles: Free fall and Projectile motion\n",
    "A bouncing ball photographed at 25 frames per second using a stroboscopic flash. In between bounces, the ball's height as a function of time is close to being a parabola, deviating from a parabolic arc because of air resistance, spin, and deformation into a non-spherical shape upon impact.\n",
    "\n",
    "If a body falls from rest near the surface of the Earth, then in the absence of air resistance, it will accelerate at a constant rate. This is known as free fall. The speed attained during free fall is proportional to the elapsed time, and the distance traveled is proportional to the square of the elapsed time.[39] Importantly, the acceleration is the same for all bodies, independently of their mass. This follows from combining Newton's second law of motion with his law of universal gravitation. The latter states that the magnitude of the gravitational force from the Earth upon the body is F = G M m r 2 , {\\displaystyle F={\\frac {GMm}{r^{2}}},} where m {\\displaystyle m} is the mass of the falling body, M {\\displaystyle M} is the mass of the Earth, G {\\displaystyle G} is Newton's constant, and r {\\displaystyle r} is the distance from the center of the Earth to the body's location, which is very nearly the radius of the Earth. Setting this equal to m a {\\displaystyle ma}, the body's mass m {\\displaystyle m} cancels from both sides of the equation, leaving an acceleration that depends upon G {\\displaystyle G}, M {\\displaystyle M}, and r {\\displaystyle r}, and r {\\displaystyle r} can be taken to be constant. This particular value of acceleration is typically denoted g {\\displaystyle g}: g = G M r 2 ≈ 9.8   m / s 2 . {\\displaystyle g={\\frac {GM}{r^{2}}}\\approx \\mathrm {9.8~m/s^{2}} .}\n",
    "\n",
    "If the body is not released from rest but instead launched upwards and/or horizontally with nonzero velocity, then free fall becomes projectile motion.[40] When air resistance can be neglected, projectiles follow parabola-shaped trajectories, because gravity affects the body's vertical motion and not its horizontal. At the peak of the projectile's trajectory, its vertical velocity is zero, but its acceleration is g {\\displaystyle g} downwards, as it is at all times. Setting the wrong vector equal to zero is a common confusion among physics students.[41]\n",
    "Uniform circular motion\n",
    "Main article: Circular motion\n",
    "Two objects in uniform circular motion, orbiting around the barycenter (center of mass of both objects)\n",
    "\n",
    "When a body is in uniform circular motion, the force on it changes the direction of its motion but not its speed. For a body moving in a circle of radius r {\\displaystyle r} at a constant speed v {\\displaystyle v}, its acceleration has a magnitude a = v 2 r {\\displaystyle a={\\frac {v^{2}}{r}}}and is directed toward the center of the circle.[note 9] The force required to sustain this acceleration, called the centripetal force, is therefore also directed toward the center of the circle and has magnitude m v 2 / r {\\displaystyle mv^{2}/r}. Many orbits, such as that of the Moon around the Earth, can be approximated by uniform circular motion. In such cases, the centripetal force is gravity, and by Newton's law of universal gravitation has magnitude G M m / r 2 {\\displaystyle GMm/r^{2}}, where M {\\displaystyle M} is the mass of the larger body being orbited. Therefore, the mass of a body can be calculated from observations of another body orbiting around it.[43]: 130 \n",
    "\n",
    "Newton's cannonball is a thought experiment that interpolates between projectile motion and uniform circular motion. A cannonball that is lobbed weakly off the edge of a tall cliff will hit the ground in the same amount of time as if it were dropped from rest, because the force of gravity only affects the cannonball's momentum in the downward direction, and its effect is not diminished by horizontal movement. If the cannonball is launched with a greater initial horizontal velocity, then it will travel farther before it hits the ground, but it will still hit the ground in the same amount of time. However, if the cannonball is launched with an even larger initial velocity, then the curvature of the Earth becomes significant: the ground itself will curve away from the falling cannonball. A very fast cannonball will fall away from the inertial straight-line trajectory at the same rate that the Earth curves away beneath it; in other words, it will be in orbit (imagining that it is not slowed by air resistance or obstacles).[44]\n",
    "Harmonic motion\n",
    "Main article: Harmonic oscillator\n",
    "An undamped spring–mass system undergoes simple harmonic motion.\n",
    "\n",
    "Consider a body of mass m {\\displaystyle m} able to move along the x {\\displaystyle x} axis, and suppose an equilibrium point exists at the position x = 0 {\\displaystyle x=0}. That is, at x = 0 {\\displaystyle x=0}, the net force upon the body is the zero vector, and by Newton's second law, the body will not accelerate. If the force upon the body is proportional to the displacement from the equilibrium point, and directed to the equilibrium point, then the body will perform simple harmonic motion. Writing the force as F = − k x {\\displaystyle F=-kx}, Newton's second law becomes m d 2 x d t 2 = − k x . {\\displaystyle m{\\frac {d^{2}x}{dt^{2}}}=-kx\\,.} This differential equation has the solution x ( t ) = A cos ⁡ ω t + B sin ⁡ ω t {\\displaystyle x(t)=A\\cos \\omega t+B\\sin \\omega t\\,} where the frequency ω {\\displaystyle \\omega } is equal to k / m {\\displaystyle {\\sqrt {k/m}}}, and the constants A {\\displaystyle A} and B {\\displaystyle B} can be calculated knowing, for example, the position and velocity the body has at a given time, like t = 0 {\\displaystyle t=0}.\n",
    "\n",
    "One reason that the harmonic oscillator is a conceptually important example is that it is good approximation for many systems near a stable mechanical equilibrium.[note 10] For example, a pendulum has a stable equilibrium in the vertical position: if motionless there, it will remain there, and if pushed slightly, it will swing back and forth. Neglecting air resistance and friction in the pivot, the force upon the pendulum is gravity, and Newton's second law becomes d 2 θ d t 2 = − g L sin ⁡ θ , {\\displaystyle {\\frac {d^{2}\\theta }{dt^{2}}}=-{\\frac {g}{L}}\\sin \\theta ,}where L {\\displaystyle L} is the length of the pendulum and θ {\\displaystyle \\theta } is its angle from the vertical. When the angle θ {\\displaystyle \\theta } is small, the sine of θ {\\displaystyle \\theta } is nearly equal to θ {\\displaystyle \\theta } (see Taylor series), and so this expression simplifies to the equation for a simple harmonic oscillator with frequency ω = g / L {\\displaystyle \\omega ={\\sqrt {g/L}}}.\n",
    "\n",
    "A harmonic oscillator can be damped, often by friction or viscous drag, in which case energy bleeds out of the oscillator and the amplitude of the oscillations decreases over time. Also, a harmonic oscillator can be driven by an applied force, which can lead to the phenomenon of resonance.[46]\n",
    "Objects with variable mass\n",
    "Main article: Variable-mass system\n",
    "Rockets, like the Space Shuttle Atlantis, propel matter in one direction to push the craft in the other. This means that the mass being pushed, the rocket and its remaining onboard fuel supply, is constantly changing.\n",
    "\n",
    "Newtonian physics treats matter as being neither created nor destroyed, though it may be rearranged. It can be the case that an object of interest gains or loses mass because matter is added to or removed from it. In such a situation, Newton's laws can be applied to the individual pieces of matter, keeping track of which pieces belong to the object of interest over time. For instance, if a rocket of mass M ( t ) {\\displaystyle M(t)}, moving at velocity v ( t ) {\\displaystyle \\mathbf {v} (t)}, ejects matter at a velocity u {\\displaystyle \\mathbf {u} } relative to the rocket, then F = M d v d t − u d M d t {\\displaystyle \\mathbf {F} =M{\\frac {d\\mathbf {v} }{dt}}-\\mathbf {u} {\\frac {dM}{dt}}\\,} where F {\\displaystyle \\mathbf {F} } is the net external force (e.g., a planet's gravitational pull).[23]: 139 \n",
    "Work and energy\n",
    "\n",
    "Physicists developed the concept of energy after Newton's time, but it has become an inseparable part of what is considered \"Newtonian\" physics. Energy can broadly be classified into kinetic, due to a body's motion, and potential, due to a body's position relative to others. Thermal energy, the energy carried by heat flow, is a type of kinetic energy not associated with the macroscopic motion of objects but instead with the movements of the atoms and molecules of which they are made. According to the work-energy theorem, when a force acts upon a body while that body moves along the line of the force, the force does work upon the body, and the amount of work done is equal to the change in the body's kinetic energy.[note 11] In many cases of interest, the net work done by a force when a body moves in a closed loop — starting at a point, moving along some trajectory, and returning to the initial point — is zero. If this is the case, then the force can be written in terms of the gradient of a function called a scalar potential:[42]: 303  F = − ∇ U . {\\displaystyle \\mathbf {F} =-\\mathbf {\\nabla } U\\,.} This is true for many forces including that of gravity, but not for friction; indeed, almost any problem in a mechanics textbook that does not involve friction can be expressed in this way.[45]: 19  The fact that the force can be written in this way can be understood from the conservation of energy. Without friction to dissipate a body's energy into heat, the body's energy will trade between potential and (non-thermal) kinetic forms while the total amount remains constant. Any gain of kinetic energy, which occurs when the net force on the body accelerates it to a higher speed, must be accompanied by a loss of potential energy. So, the net force upon the body is determined by the manner in which the potential energy decreases.\n",
    "Rigid-body motion and rotation\n",
    "\n",
    "A rigid body is an object whose size is too large to neglect and which maintains the same shape over time. In Newtonian mechanics, the motion of a rigid body is often understood by separating it into movement of the body's center of mass and movement around the center of mass.\n",
    "Center of mass\n",
    "Main article: Center of mass\n",
    "Fork-cork-toothpick object balanced on a pen on the toothpick part\n",
    "The total center of mass of the forks, cork, and toothpick is on top of the pen's tip.\n",
    "\n",
    "Significant aspects of the motion of an extended body can be understood by \n",
    "imagining the mass ofhat body concentrated to a single point, known as the ce\n",
    "nter of mass. The location of a body's center of mass depends upon how that body's m\n",
    "aterial is distributed. For a collection of pointlike objects with masses m 1 , … , m N {\\displaysty \"\"\""
   ]
  },
  {
   "cell_type": "code",
   "execution_count": 45,
   "metadata": {
    "scrolled": true
   },
   "outputs": [
    {
     "data": {
      "text/plain": [
       "'The three laws of motion were first stated by Isaac Newton in his Philosophiæ Naturalis Principia Mathematica (Mathematical Principles of Natural Philosophy), originally published in 1687.[3] Newton used them to investigate and explain the motion of many physical objects and systems. In the time since Newton, new insights, especially around the concept of energy, built the field of classical mechanics on his foundations. Limitations to Newton\\'s laws have also been discovered; new theories are necessary when objects move at very high speeds (special relativity), are very massive (general relativity), or are very small (quantum mechanics).\\nPrerequisites\\n\\nNewton\\'s laws are often stated in terms of point or particle masses, that is, bodies whose volume is negligible. This is a reasonable approximation for real bodies when the motion of internal parts can be neglected, and when the separation between bodies is much larger than the size of each. For instance, the Earth and the Sun can both be approximated as pointlike when considering the orbit of the former around the latter, but the Earth is not pointlike when considering activities on its surface.[note 1]\\n\\nThe mathematical description of motion, or kinematics, is based on the idea of specifying positions using numerical coordinates. Movement is represented by these numbers changing over time: a body\\'s trajectory is represented by a function that assigns to each value of a time variable the values of all the position coordinates. The simplest case is one-dimensional, that is, when a body is constrained to move only along a straight line. Its position can then be given by a single number, indicating where it is relative to some chosen reference point. For example, a body might be free to slide along a track that runs left to right, and so its location can be specified by its distance from a convenient zero point, or origin, with negative numbers indicating positions to the left and positive numbers indicating positions to the right. If the body\\'s location as a function of time is s ( t ) {\\\\displaystyle s(t)}, then its average velocity over the time interval from t 0 {\\\\displaystyle t_{0}} to t 1 {\\\\displaystyle t_{1}} is[6] Δ s Δ t = s ( t 1 ) − s ( t 0 ) t 1 − t 0 . {\\\\displaystyle {\\x0crac {\\\\Delta s}{\\\\Delta t}}={\\x0crac {s(t_{1})-s(t_{0})}{t_{1}-t_{0}}}.}Here, the Greek letter Δ {\\\\displaystyle \\\\Delta } (delta) is used, per tradition, to mean \"change in\". A positive average velocity means that the position coordinate s {\\\\displaystyle s} increases over the interval in question, a negative average velocity indicates a net decrease over that interval, and an average velocity of zero means that the body ends the time interval in the same place as it began. Calculus gives the means to define an instantaneous velocity, a measure of a body\\'s speed and direction of movement at a single moment of time, rather than over an interval. One notation for the instantaneous velocity is to replace Δ {\\\\displaystyle \\\\Delta } with the symbol d {\\\\displaystyle d}, for example, v = d s d t . {\\\\displaystyle v={\\x0crac {ds}{dt}}.}This denotes that the instantaneous velocity is the derivative of the position with respect to time. It can roughly be thought of as the ratio between an infinitesimally small change in position d s {\\\\displaystyle ds} to the infinitesimally small time interval d t {\\\\displaystyle dt} over which it occurs.[7] More carefully, the velocity and all other derivatives can be defined using the concept of a limit.[6] A function f ( t ) {\\\\displaystyle f(t)} has a limit of L {\\\\displaystyle L} at a given input value t 0 {\\\\displaystyle t_{0}} if the difference between f {\\\\displaystyle f} and L {\\\\displaystyle L} can be made arbitrarily small by choosing an input sufficiently close to t 0 {\\\\displaystyle t_{0}}. One writes, lim t → t 0 f ( t ) = L . {\\\\displaystyle \\\\lim _{t\\to t_{0}}f(t)=L.}Instantaneous velocity can be defined as the limit of the average velocity as the time interval shrinks to zero: d s d t = lim Δ t → 0 s ( t + Δ t ) − s ( t ) Δ t . {\\\\displaystyle {\\x0crac {ds}{dt}}=\\\\lim _{\\\\Delta t\\to 0}{\\x0crac {s(t+\\\\Delta t)-s(t)}{\\\\Delta t}}.} Acceleration is to velocity as velocity is to position: it is the derivative of the velocity with respect to time.[note 2] Acceleration can likewise be defined as a limit: a = d v d t = lim Δ t → 0 v ( t + Δ t ) − v ( t ) Δ t . {\\\\displaystyle a={\\x0crac {dv}{dt}}=\\\\lim _{\\\\Delta t\\to 0}{\\x0crac {v(t+\\\\Delta t)-v(t)}{\\\\Delta t}}.}Consequently, the acceleration is the second derivative of position,[7] often written d 2 s d t 2 {\\\\displaystyle {\\x0crac {d^{2}s}{dt^{2}}}}.\\n\\nPosition, when thought of as a displacement from an origin point, is a vector: a quantity with both magnitude and direction.[9]:\\u200a1\\u200a Velocity and acceleration are vector quantities as well. The mathematical tools of vector algebra provide the means to describe motion in two, three or more dimensions. Vectors are often denoted with an arrow, as in s {\\\\displaystyle \\\\mathbf {s} }, or in bold typeface, such as s {\\\\displaystyle {\\x08f {s}}}. Often, vectors are represented visually as arrows, with the direction of the vector being the direction of the arrow, and the magnitude of the vector indicated by the length of the arrow. Numerically, a vector can be represented as a list; for example, a body\\'s velocity vector might be v = ( 3   m / s , 4   m / s ) {\\\\displaystyle \\\\mathbf {v} =(\\\\mathrm {3~m/s} ,\\\\mathrm {4~m/s} )}, indicating that it is moving at 3 metres per second along the horizontal axis and 4 metres per second along the vertical axis. The same motion described in a different coordinate system will be represented by different numbers, and vector algebra can be used to translate between these alternatives.[9]:\\u200a4\\u200a\\n\\nThe study of mechanics is complicated by the fact that household words like energy are used with a technical meaning.[10] Moreover, words which are synonymous in everyday speech are not so in physics: force is not the same as power or pressure, for example, and mass has a different meaning than weight.[11][12]:\\u200a150\\u200a The physics concept of force makes quantitative the everyday idea of a push or a pull. Forces in Newtonian mechanics are often due to strings and ropes, friction, muscle effort, gravity, and so forth. Like displacement, velocity, and acceleration, force is a vector quantity.\\nLaws\\nFirst law\\nsee caption\\nArtificial satellites move along curved orbits, rather than in straight lines, because of the Earth\\'s gravity.\\n\\nTranslated from Latin, Newton\\'s first law reads,\\n\\n    Every object perseveres in its state of rest, or of uniform motion in a right line, except insofar as it is compelled to change that state by forces impressed thereon.[note 3]\\n\\nNewton\\'s first law expresses the principle of inertia: the natural behavior of a body is to move in a straight line at constant speed. A body\\'s motion preserves the status quo, but external forces can perturb this.\\n\\nThe modern understanding of Newton\\'s first law is that no inertial observer is privileged over any other. The concept of an inertial observer makes quantitative the everyday idea of feeling no effects of motion. For example, a person standing on the ground watching a train go past is an inertial observer. If the observer on the ground sees the train moving smoothly in a straight line at a constant speed, then a passenger sitting on the train will also be an inertial observer: the train passenger feels no motion. The principle expressed by Newton\\'s first law is that there is no way to say which inertial observer is \"really\" moving and which is \"really\" standing still. One observer\\'s state of rest is another observer\\'s state of uniform motion in a straight line, and no experiment can deem either point of view to be correct or incorrect. There is no absolute standard of rest.[17][14]:\\u200a62–63\\u200a[18]:\\u200a7–9\\u200a Newton himself believed that absolute space and time existed, but that the only measures of space or time accessible to experiment are relative.[19]\\nSecond law\\n\\n    The change of motion of an object is proportional to the force impressed; and is made in the direction of the straight line in which the force is impressed.[14]:\\u200a114\\u200a\\n\\nBy \"motion\", Newton meant the quantity now called momentum, which depends upon the amount of matter contained in a body, the speed at which that body is moving, and the direction in which it is moving.[20] In modern notation, the momentum of a body is the product of its mass and its velocity: p = m v , {\\\\displaystyle \\\\mathbf {p} =m\\\\mathbf {v} \\\\,,} where all three quantities can change over time. Newton\\'s second law, in modern form, states that the time derivative of the momentum is the force: F = d p d t . {\\\\displaystyle \\\\mathbf {F} ={\\x0crac {d\\\\mathbf {p} }{dt}}\\\\,.} If the mass m {\\\\displaystyle m} does not change with time, then the derivative acts only upon the velocity, and so the force equals the product of the mass and the time derivative of the velocity, which is the acceleration:[21] F = m d v d t = m a . {\\\\displaystyle \\\\mathbf {F} =m{\\x0crac {d\\\\mathbf {v} }{dt}}=m\\\\mathbf {a} \\\\,.} As the acceleration is the second derivative of position with respect to time, this can also be written F = m d 2 s d t 2 . {\\\\displaystyle \\\\mathbf {F} =m{\\x0crac {d^{2}\\\\mathbf {s} }{dt^{2}}}.}\\nA free body diagram for a block on an inclined plane, illustrating the normal force perpendicular to the plane (N), the downward force of gravity (mg), and a force f along the direction of the plane that could be applied, for example, by friction or a string\\n\\nThe forces acting on a body add as vectors, and so the total force on a body depends upon both the magnitudes and the directions of the individual forces. When the net force on a body is equal to zero, then by Newton\\'s second law, the body does not accelerate, and it is said to be in mechanical equilibrium. A state of mechanical equilibrium is stable if, when the position of the body is changed slightly, the body remains near that equilibrium. Otherwise, the equilibrium is unstable.\\n\\nA common visual representation of forces acting in concert is the free body diagram, which schematically portrays a body of interest and the forces applied to it by outside influences.[22] For example, a free body diagram of a block sitting upon an inclined plane can illustrate the combination of gravitational force, \"normal\" force, friction, and string tension.[note 4]\\n\\nNewton\\'s second law is sometimes presented as a definition of force, i.e., a force is that which exists when an inertial observer sees a body accelerating. In order for this to be more than a tautology — acceleration implies force, force implies acceleration — some other statement about force must also be made. For example, an equation detailing the force might be specified, like Newton\\'s law of universal gravitation. By inserting such an expression for F {\\\\displaystyle \\\\mathbf {F} } into Newton\\'s second law, an equation with predictive power can be written.[note 5] Newton\\'s second law has also been regarded as setting out a research program for physics, establishing that important goals of the subject are to identify the forces present in nature and to catalogue the constituents of matter.[14]:\\u200a134\\u200a[25]:\\u200a12-2\\u200a\\nThird law\\n\\n    To every action, there is always opposed an equal reaction; or, the mutual actions of two bodies upon each other are always equal, and directed to contrary parts.[14]:\\u200a116\\u200a\\n\\nRockets work by producing a strong reaction force downwards using rocket engines. This pushes the rocket upwards, without regard to the ground or the atmosphere.\\n\\nOverly brief paraphrases of the third law, like \"action equals reaction\" might have caused confusion among generations of students: the \"action\" and \"reaction\" apply to different bodies. For example, consider a book at rest on a table. The Earth\\'s gravity pulls down upon the book. The \"reaction\" to that \"action\" is not the support force from the table holding up the book, but the gravitational pull of the book acting on the Earth.[note 6]\\n\\nNewton\\'s third law relates to a more fundamental principle, the conservation of momentum. The latter remains true even in cases where Newton\\'s statement does not, for instance when force fields as well as material bodies carry momentum, and when momentum is defined properly, in quantum mechanics as well.[note 7] In Newtonian mechanics, if two bodies have momenta p 1 {\\\\displaystyle \\\\mathbf {p} _{1}} and p 2 {\\\\displaystyle \\\\mathbf {p} _{2}} respectively, then the total momentum of the pair is p = p 1 + p 2 {\\\\displaystyle \\\\mathbf {p} =\\\\mathbf {p} _{1}+\\\\mathbf {p} _{2}}, and the rate of change of p {\\\\displaystyle \\\\mathbf {p} } is d p d t = d p 1 d t + d p 2 d t . {\\\\displaystyle {\\x0crac {d\\\\mathbf {p} }{dt}}={\\x0crac {d\\\\mathbf {p} _{1}}{dt}}+{\\x0crac {d\\\\mathbf {p} _{2}}{dt}}.} By Newton\\'s second law, the first term is the total force upon the first body, and the second term is the total force upon the second body. If the two bodies are isolated from outside influences, the only force upon the first body can be that from the second, and vice versa. By Newton\\'s third law, these forces have equal magnitude but opposite direction, so they cancel when added, and p {\\\\displaystyle \\\\mathbf {p} } is constant. Alternatively, if p {\\\\displaystyle \\\\mathbf {p} } is known to be constant, it follows that the forces have equal magnitude and opposite direction.\\nCandidates for additional laws\\n\\nVarious sources have proposed elevating other ideas used in classical mechanics to the status of Newton\\'s laws. For example, in Newtonian mechanics, the total mass of a body made by bringing together two smaller bodies is the sum of their individual masses. Frank Wilczek has suggested calling attention to this assumption by designating it \"Newton\\'s Zeroth Law\".[33] Another candidate for a \"zeroth law\" is the fact that at any instant, a body reacts to the forces applied to it at that instant.[34] Likewise, the idea that forces add like vectors (or in other words obey the superposition principle), and the idea that forces change the energy of a body, have both been described as a \"fourth law\".[note 8]\\nExamples\\n\\nThe study of the behavior of massive bodies using Newton\\'s laws is known as Newtonian mechanics. Some example problems in Newtonian mechanics are particularly noteworthy for conceptual or historical reasons.\\nUniformly accelerated motion\\nMain articles: Free fall and Projectile motion\\nA bouncing ball photographed at 25 frames per second using a stroboscopic flash. In between bounces, the ball\\'s height as a function of time is close to being a parabola, deviating from a parabolic arc because of air resistance, spin, and deformation into a non-spherical shape upon impact.\\n\\nIf a body falls from rest near the surface of the Earth, then in the absence of air resistance, it will accelerate at a constant rate. This is known as free fall. The speed attained during free fall is proportional to the elapsed time, and the distance traveled is proportional to the square of the elapsed time.[39] Importantly, the acceleration is the same for all bodies, independently of their mass. This follows from combining Newton\\'s second law of motion with his law of universal gravitation. The latter states that the magnitude of the gravitational force from the Earth upon the body is F = G M m r 2 , {\\\\displaystyle F={\\x0crac {GMm}{r^{2}}},} where m {\\\\displaystyle m} is the mass of the falling body, M {\\\\displaystyle M} is the mass of the Earth, G {\\\\displaystyle G} is Newton\\'s constant, and r {\\\\displaystyle r} is the distance from the center of the Earth to the body\\'s location, which is very nearly the radius of the Earth. Setting this equal to m a {\\\\displaystyle ma}, the body\\'s mass m {\\\\displaystyle m} cancels from both sides of the equation, leaving an acceleration that depends upon G {\\\\displaystyle G}, M {\\\\displaystyle M}, and r {\\\\displaystyle r}, and r {\\\\displaystyle r} can be taken to be constant. This particular value of acceleration is typically denoted g {\\\\displaystyle g}: g = G M r 2 ≈ 9.8   m / s 2 . {\\\\displaystyle g={\\x0crac {GM}{r^{2}}}\\x07pprox \\\\mathrm {9.8~m/s^{2}} .}\\n\\nIf the body is not released from rest but instead launched upwards and/or horizontally with nonzero velocity, then free fall becomes projectile motion.[40] When air resistance can be neglected, projectiles follow parabola-shaped trajectories, because gravity affects the body\\'s vertical motion and not its horizontal. At the peak of the projectile\\'s trajectory, its vertical velocity is zero, but its acceleration is g {\\\\displaystyle g} downwards, as it is at all times. Setting the wrong vector equal to zero is a common confusion among physics students.[41]\\nUniform circular motion\\nMain article: Circular motion\\nTwo objects in uniform circular motion, orbiting around the barycenter (center of mass of both objects)\\n\\nWhen a body is in uniform circular motion, the force on it changes the direction of its motion but not its speed. For a body moving in a circle of radius r {\\\\displaystyle r} at a constant speed v {\\\\displaystyle v}, its acceleration has a magnitude a = v 2 r {\\\\displaystyle a={\\x0crac {v^{2}}{r}}}and is directed toward the center of the circle.[note 9] The force required to sustain this acceleration, called the centripetal force, is therefore also directed toward the center of the circle and has magnitude m v 2 / r {\\\\displaystyle mv^{2}/r}. Many orbits, such as that of the Moon around the Earth, can be approximated by uniform circular motion. In such cases, the centripetal force is gravity, and by Newton\\'s law of universal gravitation has magnitude G M m / r 2 {\\\\displaystyle GMm/r^{2}}, where M {\\\\displaystyle M} is the mass of the larger body being orbited. Therefore, the mass of a body can be calculated from observations of another body orbiting around it.[43]:\\u200a130\\u200a\\n\\nNewton\\'s cannonball is a thought experiment that interpolates between projectile motion and uniform circular motion. A cannonball that is lobbed weakly off the edge of a tall cliff will hit the ground in the same amount of time as if it were dropped from rest, because the force of gravity only affects the cannonball\\'s momentum in the downward direction, and its effect is not diminished by horizontal movement. If the cannonball is launched with a greater initial horizontal velocity, then it will travel farther before it hits the ground, but it will still hit the ground in the same amount of time. However, if the cannonball is launched with an even larger initial velocity, then the curvature of the Earth becomes significant: the ground itself will curve away from the falling cannonball. A very fast cannonball will fall away from the inertial straight-line trajectory at the same rate that the Earth curves away beneath it; in other words, it will be in orbit (imagining that it is not slowed by air resistance or obstacles).[44]\\nHarmonic motion\\nMain article: Harmonic oscillator\\nAn undamped spring–mass system undergoes simple harmonic motion.\\n\\nConsider a body of mass m {\\\\displaystyle m} able to move along the x {\\\\displaystyle x} axis, and suppose an equilibrium point exists at the position x = 0 {\\\\displaystyle x=0}. That is, at x = 0 {\\\\displaystyle x=0}, the net force upon the body is the zero vector, and by Newton\\'s second law, the body will not accelerate. If the force upon the body is proportional to the displacement from the equilibrium point, and directed to the equilibrium point, then the body will perform simple harmonic motion. Writing the force as F = − k x {\\\\displaystyle F=-kx}, Newton\\'s second law becomes m d 2 x d t 2 = − k x . {\\\\displaystyle m{\\x0crac {d^{2}x}{dt^{2}}}=-kx\\\\,.} This differential equation has the solution x ( t ) = A cos \\u2061 ω t + B sin \\u2061 ω t {\\\\displaystyle x(t)=A\\\\cos \\\\omega t+B\\\\sin \\\\omega t\\\\,} where the frequency ω {\\\\displaystyle \\\\omega } is equal to k / m {\\\\displaystyle {\\\\sqrt {k/m}}}, and the constants A {\\\\displaystyle A} and B {\\\\displaystyle B} can be calculated knowing, for example, the position and velocity the body has at a given time, like t = 0 {\\\\displaystyle t=0}.\\n\\nOne reason that the harmonic oscillator is a conceptually important example is that it is good approximation for many systems near a stable mechanical equilibrium.[note 10] For example, a pendulum has a stable equilibrium in the vertical position: if motionless there, it will remain there, and if pushed slightly, it will swing back and forth. Neglecting air resistance and friction in the pivot, the force upon the pendulum is gravity, and Newton\\'s second law becomes d 2 θ d t 2 = − g L sin \\u2061 θ , {\\\\displaystyle {\\x0crac {d^{2}\\theta }{dt^{2}}}=-{\\x0crac {g}{L}}\\\\sin \\theta ,}where L {\\\\displaystyle L} is the length of the pendulum and θ {\\\\displaystyle \\theta } is its angle from the vertical. When the angle θ {\\\\displaystyle \\theta } is small, the sine of θ {\\\\displaystyle \\theta } is nearly equal to θ {\\\\displaystyle \\theta } (see Taylor series), and so this expression simplifies to the equation for a simple harmonic oscillator with frequency ω = g / L {\\\\displaystyle \\\\omega ={\\\\sqrt {g/L}}}.\\n\\nA harmonic oscillator can be damped, often by friction or viscous drag, in which case energy bleeds out of the oscillator and the amplitude of the oscillations decreases over time. Also, a harmonic oscillator can be driven by an applied force, which can lead to the phenomenon of resonance.[46]\\nObjects with variable mass\\nMain article: Variable-mass system\\nRockets, like the Space Shuttle Atlantis, propel matter in one direction to push the craft in the other. This means that the mass being pushed, the rocket and its remaining onboard fuel supply, is constantly changing.\\n\\nNewtonian physics treats matter as being neither created nor destroyed, though it may be rearranged. It can be the case that an object of interest gains or loses mass because matter is added to or removed from it. In such a situation, Newton\\'s laws can be applied to the individual pieces of matter, keeping track of which pieces belong to the object of interest over time. For instance, if a rocket of mass M ( t ) {\\\\displaystyle M(t)}, moving at velocity v ( t ) {\\\\displaystyle \\\\mathbf {v} (t)}, ejects matter at a velocity u {\\\\displaystyle \\\\mathbf {u} } relative to the rocket, then F = M d v d t − u d M d t {\\\\displaystyle \\\\mathbf {F} =M{\\x0crac {d\\\\mathbf {v} }{dt}}-\\\\mathbf {u} {\\x0crac {dM}{dt}}\\\\,} where F {\\\\displaystyle \\\\mathbf {F} } is the net external force (e.g., a planet\\'s gravitational pull).[23]:\\u200a139\\u200a\\nWork and energy\\n\\nPhysicists developed the concept of energy after Newton\\'s time, but it has become an inseparable part of what is considered \"Newtonian\" physics. Energy can broadly be classified into kinetic, due to a body\\'s motion, and potential, due to a body\\'s position relative to others. Thermal energy, the energy carried by heat flow, is a type of kinetic energy not associated with the macroscopic motion of objects but instead with the movements of the atoms and molecules of which they are made. According to the work-energy theorem, when a force acts upon a body while that body moves along the line of the force, the force does work upon the body, and the amount of work done is equal to the change in the body\\'s kinetic energy.[note 11] In many cases of interest, the net work done by a force when a body moves in a closed loop — starting at a point, moving along some trajectory, and returning to the initial point — is zero. If this is the case, then the force can be written in terms of the gradient of a function called a scalar potential:[42]:\\u200a303\\u200a F = − ∇ U . {\\\\displaystyle \\\\mathbf {F} =-\\\\mathbf {\\nabla } U\\\\,.} This is true for many forces including that of gravity, but not for friction; indeed, almost any problem in a mechanics textbook that does not involve friction can be expressed in this way.[45]:\\u200a19\\u200a The fact that the force can be written in this way can be understood from the conservation of energy. Without friction to dissipate a body\\'s energy into heat, the body\\'s energy will trade between potential and (non-thermal) kinetic forms while the total amount remains constant. Any gain of kinetic energy, which occurs when the net force on the body accelerates it to a higher speed, must be accompanied by a loss of potential energy. So, the net force upon the body is determined by the manner in which the potential energy decreases.\\nRigid-body motion and rotation\\n\\nA rigid body is an object whose size is too large to neglect and which maintains the same shape over time. In Newtonian mechanics, the motion of a rigid body is often understood by separating it into movement of the body\\'s center of mass and movement around the center of mass.\\nCenter of mass\\nMain article: Center of mass\\nFork-cork-toothpick object balanced on a pen on the toothpick part\\nThe total center of mass of the forks, cork, and toothpick is on top of the pen\\'s tip.\\n\\nSignificant aspects of the motion of an extended body can be understood by \\nimagining the mass ofhat body concentrated to a single point, known as the ce\\nnter of mass. The location of a body\\'s center of mass depends upon how that body\\'s m\\naterial is distributed. For a collection of pointlike objects with masses m 1 , … , m N {\\\\displaysty '"
      ]
     },
     "execution_count": 45,
     "metadata": {},
     "output_type": "execute_result"
    }
   ],
   "source": [
    "data"
   ]
  },
  {
   "cell_type": "code",
   "execution_count": 46,
   "metadata": {},
   "outputs": [
    {
     "data": {
      "text/plain": [
       "str"
      ]
     },
     "execution_count": 46,
     "metadata": {},
     "output_type": "execute_result"
    }
   ],
   "source": [
    "type(data)"
   ]
  },
  {
   "cell_type": "code",
   "execution_count": 47,
   "metadata": {},
   "outputs": [],
   "source": [
    "list_of_words = data.split(\" \")"
   ]
  },
  {
   "cell_type": "code",
   "execution_count": 48,
   "metadata": {},
   "outputs": [],
   "source": [
    "s = \"Permeabilty and Porosity\""
   ]
  },
  {
   "cell_type": "code",
   "execution_count": 51,
   "metadata": {},
   "outputs": [
    {
     "data": {
      "text/plain": [
       "['Permeabilty', 'and', 'Porosity']"
      ]
     },
     "execution_count": 51,
     "metadata": {},
     "output_type": "execute_result"
    }
   ],
   "source": [
    "s.split(\" \")"
   ]
  },
  {
   "cell_type": "code",
   "execution_count": 52,
   "metadata": {},
   "outputs": [
    {
     "data": {
      "text/plain": [
       "['The',\n",
       " 'three',\n",
       " 'laws',\n",
       " 'of',\n",
       " 'motion',\n",
       " 'were',\n",
       " 'first',\n",
       " 'stated',\n",
       " 'by',\n",
       " 'Isaac',\n",
       " 'Newton',\n",
       " 'in',\n",
       " 'his',\n",
       " 'Philosophiæ',\n",
       " 'Naturalis',\n",
       " 'Principia',\n",
       " 'Mathematica',\n",
       " '(Mathematical',\n",
       " 'Principles',\n",
       " 'of',\n",
       " 'Natural',\n",
       " 'Philosophy),',\n",
       " 'originally',\n",
       " 'published',\n",
       " 'in',\n",
       " '1687.[3]',\n",
       " 'Newton',\n",
       " 'used',\n",
       " 'them',\n",
       " 'to',\n",
       " 'investigate',\n",
       " 'and',\n",
       " 'explain',\n",
       " 'the',\n",
       " 'motion',\n",
       " 'of',\n",
       " 'many',\n",
       " 'physical',\n",
       " 'objects',\n",
       " 'and',\n",
       " 'systems.',\n",
       " 'In',\n",
       " 'the',\n",
       " 'time',\n",
       " 'since',\n",
       " 'Newton,',\n",
       " 'new',\n",
       " 'insights,',\n",
       " 'especially',\n",
       " 'around',\n",
       " 'the',\n",
       " 'concept',\n",
       " 'of',\n",
       " 'energy,',\n",
       " 'built',\n",
       " 'the',\n",
       " 'field',\n",
       " 'of',\n",
       " 'classical',\n",
       " 'mechanics',\n",
       " 'on',\n",
       " 'his',\n",
       " 'foundations.',\n",
       " 'Limitations',\n",
       " 'to',\n",
       " \"Newton's\",\n",
       " 'laws',\n",
       " 'have',\n",
       " 'also',\n",
       " 'been',\n",
       " 'discovered;',\n",
       " 'new',\n",
       " 'theories',\n",
       " 'are',\n",
       " 'necessary',\n",
       " 'when',\n",
       " 'objects',\n",
       " 'move',\n",
       " 'at',\n",
       " 'very',\n",
       " 'high',\n",
       " 'speeds',\n",
       " '(special',\n",
       " 'relativity),',\n",
       " 'are',\n",
       " 'very',\n",
       " 'massive',\n",
       " '(general',\n",
       " 'relativity),',\n",
       " 'or',\n",
       " 'are',\n",
       " 'very',\n",
       " 'small',\n",
       " '(quantum',\n",
       " \"mechanics).\\nPrerequisites\\n\\nNewton's\",\n",
       " 'laws',\n",
       " 'are',\n",
       " 'often',\n",
       " 'stated',\n",
       " 'in',\n",
       " 'terms',\n",
       " 'of',\n",
       " 'point',\n",
       " 'or',\n",
       " 'particle',\n",
       " 'masses,',\n",
       " 'that',\n",
       " 'is,',\n",
       " 'bodies',\n",
       " 'whose',\n",
       " 'volume',\n",
       " 'is',\n",
       " 'negligible.',\n",
       " 'This',\n",
       " 'is',\n",
       " 'a',\n",
       " 'reasonable',\n",
       " 'approximation',\n",
       " 'for',\n",
       " 'real',\n",
       " 'bodies',\n",
       " 'when',\n",
       " 'the',\n",
       " 'motion',\n",
       " 'of',\n",
       " 'internal',\n",
       " 'parts',\n",
       " 'can',\n",
       " 'be',\n",
       " 'neglected,',\n",
       " 'and',\n",
       " 'when',\n",
       " 'the',\n",
       " 'separation',\n",
       " 'between',\n",
       " 'bodies',\n",
       " 'is',\n",
       " 'much',\n",
       " 'larger',\n",
       " 'than',\n",
       " 'the',\n",
       " 'size',\n",
       " 'of',\n",
       " 'each.',\n",
       " 'For',\n",
       " 'instance,',\n",
       " 'the',\n",
       " 'Earth',\n",
       " 'and',\n",
       " 'the',\n",
       " 'Sun',\n",
       " 'can',\n",
       " 'both',\n",
       " 'be',\n",
       " 'approximated',\n",
       " 'as',\n",
       " 'pointlike',\n",
       " 'when',\n",
       " 'considering',\n",
       " 'the',\n",
       " 'orbit',\n",
       " 'of',\n",
       " 'the',\n",
       " 'former',\n",
       " 'around',\n",
       " 'the',\n",
       " 'latter,',\n",
       " 'but',\n",
       " 'the',\n",
       " 'Earth',\n",
       " 'is',\n",
       " 'not',\n",
       " 'pointlike',\n",
       " 'when',\n",
       " 'considering',\n",
       " 'activities',\n",
       " 'on',\n",
       " 'its',\n",
       " 'surface.[note',\n",
       " '1]\\n\\nThe',\n",
       " 'mathematical',\n",
       " 'description',\n",
       " 'of',\n",
       " 'motion,',\n",
       " 'or',\n",
       " 'kinematics,',\n",
       " 'is',\n",
       " 'based',\n",
       " 'on',\n",
       " 'the',\n",
       " 'idea',\n",
       " 'of',\n",
       " 'specifying',\n",
       " 'positions',\n",
       " 'using',\n",
       " 'numerical',\n",
       " 'coordinates.',\n",
       " 'Movement',\n",
       " 'is',\n",
       " 'represented',\n",
       " 'by',\n",
       " 'these',\n",
       " 'numbers',\n",
       " 'changing',\n",
       " 'over',\n",
       " 'time:',\n",
       " 'a',\n",
       " \"body's\",\n",
       " 'trajectory',\n",
       " 'is',\n",
       " 'represented',\n",
       " 'by',\n",
       " 'a',\n",
       " 'function',\n",
       " 'that',\n",
       " 'assigns',\n",
       " 'to',\n",
       " 'each',\n",
       " 'value',\n",
       " 'of',\n",
       " 'a',\n",
       " 'time',\n",
       " 'variable',\n",
       " 'the',\n",
       " 'values',\n",
       " 'of',\n",
       " 'all',\n",
       " 'the',\n",
       " 'position',\n",
       " 'coordinates.',\n",
       " 'The',\n",
       " 'simplest',\n",
       " 'case',\n",
       " 'is',\n",
       " 'one-dimensional,',\n",
       " 'that',\n",
       " 'is,',\n",
       " 'when',\n",
       " 'a',\n",
       " 'body',\n",
       " 'is',\n",
       " 'constrained',\n",
       " 'to',\n",
       " 'move',\n",
       " 'only',\n",
       " 'along',\n",
       " 'a',\n",
       " 'straight',\n",
       " 'line.',\n",
       " 'Its',\n",
       " 'position',\n",
       " 'can',\n",
       " 'then',\n",
       " 'be',\n",
       " 'given',\n",
       " 'by',\n",
       " 'a',\n",
       " 'single',\n",
       " 'number,',\n",
       " 'indicating',\n",
       " 'where',\n",
       " 'it',\n",
       " 'is',\n",
       " 'relative',\n",
       " 'to',\n",
       " 'some',\n",
       " 'chosen',\n",
       " 'reference',\n",
       " 'point.',\n",
       " 'For',\n",
       " 'example,',\n",
       " 'a',\n",
       " 'body',\n",
       " 'might',\n",
       " 'be',\n",
       " 'free',\n",
       " 'to',\n",
       " 'slide',\n",
       " 'along',\n",
       " 'a',\n",
       " 'track',\n",
       " 'that',\n",
       " 'runs',\n",
       " 'left',\n",
       " 'to',\n",
       " 'right,',\n",
       " 'and',\n",
       " 'so',\n",
       " 'its',\n",
       " 'location',\n",
       " 'can',\n",
       " 'be',\n",
       " 'specified',\n",
       " 'by',\n",
       " 'its',\n",
       " 'distance',\n",
       " 'from',\n",
       " 'a',\n",
       " 'convenient',\n",
       " 'zero',\n",
       " 'point,',\n",
       " 'or',\n",
       " 'origin,',\n",
       " 'with',\n",
       " 'negative',\n",
       " 'numbers',\n",
       " 'indicating',\n",
       " 'positions',\n",
       " 'to',\n",
       " 'the',\n",
       " 'left',\n",
       " 'and',\n",
       " 'positive',\n",
       " 'numbers',\n",
       " 'indicating',\n",
       " 'positions',\n",
       " 'to',\n",
       " 'the',\n",
       " 'right.',\n",
       " 'If',\n",
       " 'the',\n",
       " \"body's\",\n",
       " 'location',\n",
       " 'as',\n",
       " 'a',\n",
       " 'function',\n",
       " 'of',\n",
       " 'time',\n",
       " 'is',\n",
       " 's',\n",
       " '(',\n",
       " 't',\n",
       " ')',\n",
       " '{\\\\displaystyle',\n",
       " 's(t)},',\n",
       " 'then',\n",
       " 'its',\n",
       " 'average',\n",
       " 'velocity',\n",
       " 'over',\n",
       " 'the',\n",
       " 'time',\n",
       " 'interval',\n",
       " 'from',\n",
       " 't',\n",
       " '0',\n",
       " '{\\\\displaystyle',\n",
       " 't_{0}}',\n",
       " 'to',\n",
       " 't',\n",
       " '1',\n",
       " '{\\\\displaystyle',\n",
       " 't_{1}}',\n",
       " 'is[6]',\n",
       " 'Δ',\n",
       " 's',\n",
       " 'Δ',\n",
       " 't',\n",
       " '=',\n",
       " 's',\n",
       " '(',\n",
       " 't',\n",
       " '1',\n",
       " ')',\n",
       " '−',\n",
       " 's',\n",
       " '(',\n",
       " 't',\n",
       " '0',\n",
       " ')',\n",
       " 't',\n",
       " '1',\n",
       " '−',\n",
       " 't',\n",
       " '0',\n",
       " '.',\n",
       " '{\\\\displaystyle',\n",
       " '{\\x0crac',\n",
       " '{\\\\Delta',\n",
       " 's}{\\\\Delta',\n",
       " 't}}={\\x0crac',\n",
       " '{s(t_{1})-s(t_{0})}{t_{1}-t_{0}}}.}Here,',\n",
       " 'the',\n",
       " 'Greek',\n",
       " 'letter',\n",
       " 'Δ',\n",
       " '{\\\\displaystyle',\n",
       " '\\\\Delta',\n",
       " '}',\n",
       " '(delta)',\n",
       " 'is',\n",
       " 'used,',\n",
       " 'per',\n",
       " 'tradition,',\n",
       " 'to',\n",
       " 'mean',\n",
       " '\"change',\n",
       " 'in\".',\n",
       " 'A',\n",
       " 'positive',\n",
       " 'average',\n",
       " 'velocity',\n",
       " 'means',\n",
       " 'that',\n",
       " 'the',\n",
       " 'position',\n",
       " 'coordinate',\n",
       " 's',\n",
       " '{\\\\displaystyle',\n",
       " 's}',\n",
       " 'increases',\n",
       " 'over',\n",
       " 'the',\n",
       " 'interval',\n",
       " 'in',\n",
       " 'question,',\n",
       " 'a',\n",
       " 'negative',\n",
       " 'average',\n",
       " 'velocity',\n",
       " 'indicates',\n",
       " 'a',\n",
       " 'net',\n",
       " 'decrease',\n",
       " 'over',\n",
       " 'that',\n",
       " 'interval,',\n",
       " 'and',\n",
       " 'an',\n",
       " 'average',\n",
       " 'velocity',\n",
       " 'of',\n",
       " 'zero',\n",
       " 'means',\n",
       " 'that',\n",
       " 'the',\n",
       " 'body',\n",
       " 'ends',\n",
       " 'the',\n",
       " 'time',\n",
       " 'interval',\n",
       " 'in',\n",
       " 'the',\n",
       " 'same',\n",
       " 'place',\n",
       " 'as',\n",
       " 'it',\n",
       " 'began.',\n",
       " 'Calculus',\n",
       " 'gives',\n",
       " 'the',\n",
       " 'means',\n",
       " 'to',\n",
       " 'define',\n",
       " 'an',\n",
       " 'instantaneous',\n",
       " 'velocity,',\n",
       " 'a',\n",
       " 'measure',\n",
       " 'of',\n",
       " 'a',\n",
       " \"body's\",\n",
       " 'speed',\n",
       " 'and',\n",
       " 'direction',\n",
       " 'of',\n",
       " 'movement',\n",
       " 'at',\n",
       " 'a',\n",
       " 'single',\n",
       " 'moment',\n",
       " 'of',\n",
       " 'time,',\n",
       " 'rather',\n",
       " 'than',\n",
       " 'over',\n",
       " 'an',\n",
       " 'interval.',\n",
       " 'One',\n",
       " 'notation',\n",
       " 'for',\n",
       " 'the',\n",
       " 'instantaneous',\n",
       " 'velocity',\n",
       " 'is',\n",
       " 'to',\n",
       " 'replace',\n",
       " 'Δ',\n",
       " '{\\\\displaystyle',\n",
       " '\\\\Delta',\n",
       " '}',\n",
       " 'with',\n",
       " 'the',\n",
       " 'symbol',\n",
       " 'd',\n",
       " '{\\\\displaystyle',\n",
       " 'd},',\n",
       " 'for',\n",
       " 'example,',\n",
       " 'v',\n",
       " '=',\n",
       " 'd',\n",
       " 's',\n",
       " 'd',\n",
       " 't',\n",
       " '.',\n",
       " '{\\\\displaystyle',\n",
       " 'v={\\x0crac',\n",
       " '{ds}{dt}}.}This',\n",
       " 'denotes',\n",
       " 'that',\n",
       " 'the',\n",
       " 'instantaneous',\n",
       " 'velocity',\n",
       " 'is',\n",
       " 'the',\n",
       " 'derivative',\n",
       " 'of',\n",
       " 'the',\n",
       " 'position',\n",
       " 'with',\n",
       " 'respect',\n",
       " 'to',\n",
       " 'time.',\n",
       " 'It',\n",
       " 'can',\n",
       " 'roughly',\n",
       " 'be',\n",
       " 'thought',\n",
       " 'of',\n",
       " 'as',\n",
       " 'the',\n",
       " 'ratio',\n",
       " 'between',\n",
       " 'an',\n",
       " 'infinitesimally',\n",
       " 'small',\n",
       " 'change',\n",
       " 'in',\n",
       " 'position',\n",
       " 'd',\n",
       " 's',\n",
       " '{\\\\displaystyle',\n",
       " 'ds}',\n",
       " 'to',\n",
       " 'the',\n",
       " 'infinitesimally',\n",
       " 'small',\n",
       " 'time',\n",
       " 'interval',\n",
       " 'd',\n",
       " 't',\n",
       " '{\\\\displaystyle',\n",
       " 'dt}',\n",
       " 'over',\n",
       " 'which',\n",
       " 'it',\n",
       " 'occurs.[7]',\n",
       " 'More',\n",
       " 'carefully,',\n",
       " 'the',\n",
       " 'velocity',\n",
       " 'and',\n",
       " 'all',\n",
       " 'other',\n",
       " 'derivatives',\n",
       " 'can',\n",
       " 'be',\n",
       " 'defined',\n",
       " 'using',\n",
       " 'the',\n",
       " 'concept',\n",
       " 'of',\n",
       " 'a',\n",
       " 'limit.[6]',\n",
       " 'A',\n",
       " 'function',\n",
       " 'f',\n",
       " '(',\n",
       " 't',\n",
       " ')',\n",
       " '{\\\\displaystyle',\n",
       " 'f(t)}',\n",
       " 'has',\n",
       " 'a',\n",
       " 'limit',\n",
       " 'of',\n",
       " 'L',\n",
       " '{\\\\displaystyle',\n",
       " 'L}',\n",
       " 'at',\n",
       " 'a',\n",
       " 'given',\n",
       " 'input',\n",
       " 'value',\n",
       " 't',\n",
       " '0',\n",
       " '{\\\\displaystyle',\n",
       " 't_{0}}',\n",
       " 'if',\n",
       " 'the',\n",
       " 'difference',\n",
       " 'between',\n",
       " 'f',\n",
       " '{\\\\displaystyle',\n",
       " 'f}',\n",
       " 'and',\n",
       " 'L',\n",
       " '{\\\\displaystyle',\n",
       " 'L}',\n",
       " 'can',\n",
       " 'be',\n",
       " 'made',\n",
       " 'arbitrarily',\n",
       " 'small',\n",
       " 'by',\n",
       " 'choosing',\n",
       " 'an',\n",
       " 'input',\n",
       " 'sufficiently',\n",
       " 'close',\n",
       " 'to',\n",
       " 't',\n",
       " '0',\n",
       " '{\\\\displaystyle',\n",
       " 't_{0}}.',\n",
       " 'One',\n",
       " 'writes,',\n",
       " 'lim',\n",
       " 't',\n",
       " '→',\n",
       " 't',\n",
       " '0',\n",
       " 'f',\n",
       " '(',\n",
       " 't',\n",
       " ')',\n",
       " '=',\n",
       " 'L',\n",
       " '.',\n",
       " '{\\\\displaystyle',\n",
       " '\\\\lim',\n",
       " '_{t\\to',\n",
       " 't_{0}}f(t)=L.}Instantaneous',\n",
       " 'velocity',\n",
       " 'can',\n",
       " 'be',\n",
       " 'defined',\n",
       " 'as',\n",
       " 'the',\n",
       " 'limit',\n",
       " 'of',\n",
       " 'the',\n",
       " 'average',\n",
       " 'velocity',\n",
       " 'as',\n",
       " 'the',\n",
       " 'time',\n",
       " 'interval',\n",
       " 'shrinks',\n",
       " 'to',\n",
       " 'zero:',\n",
       " 'd',\n",
       " 's',\n",
       " 'd',\n",
       " 't',\n",
       " '=',\n",
       " 'lim',\n",
       " 'Δ',\n",
       " 't',\n",
       " '→',\n",
       " '0',\n",
       " 's',\n",
       " '(',\n",
       " 't',\n",
       " '+',\n",
       " 'Δ',\n",
       " 't',\n",
       " ')',\n",
       " '−',\n",
       " 's',\n",
       " '(',\n",
       " 't',\n",
       " ')',\n",
       " 'Δ',\n",
       " 't',\n",
       " '.',\n",
       " '{\\\\displaystyle',\n",
       " '{\\x0crac',\n",
       " '{ds}{dt}}=\\\\lim',\n",
       " '_{\\\\Delta',\n",
       " 't\\to',\n",
       " '0}{\\x0crac',\n",
       " '{s(t+\\\\Delta',\n",
       " 't)-s(t)}{\\\\Delta',\n",
       " 't}}.}',\n",
       " 'Acceleration',\n",
       " 'is',\n",
       " 'to',\n",
       " 'velocity',\n",
       " 'as',\n",
       " 'velocity',\n",
       " 'is',\n",
       " 'to',\n",
       " 'position:',\n",
       " 'it',\n",
       " 'is',\n",
       " 'the',\n",
       " 'derivative',\n",
       " 'of',\n",
       " 'the',\n",
       " 'velocity',\n",
       " 'with',\n",
       " 'respect',\n",
       " 'to',\n",
       " 'time.[note',\n",
       " '2]',\n",
       " 'Acceleration',\n",
       " 'can',\n",
       " 'likewise',\n",
       " 'be',\n",
       " 'defined',\n",
       " 'as',\n",
       " 'a',\n",
       " 'limit:',\n",
       " 'a',\n",
       " '=',\n",
       " 'd',\n",
       " 'v',\n",
       " 'd',\n",
       " 't',\n",
       " '=',\n",
       " 'lim',\n",
       " 'Δ',\n",
       " 't',\n",
       " '→',\n",
       " '0',\n",
       " 'v',\n",
       " '(',\n",
       " 't',\n",
       " '+',\n",
       " 'Δ',\n",
       " 't',\n",
       " ')',\n",
       " '−',\n",
       " 'v',\n",
       " '(',\n",
       " 't',\n",
       " ')',\n",
       " 'Δ',\n",
       " 't',\n",
       " '.',\n",
       " '{\\\\displaystyle',\n",
       " 'a={\\x0crac',\n",
       " '{dv}{dt}}=\\\\lim',\n",
       " '_{\\\\Delta',\n",
       " 't\\to',\n",
       " '0}{\\x0crac',\n",
       " '{v(t+\\\\Delta',\n",
       " 't)-v(t)}{\\\\Delta',\n",
       " 't}}.}Consequently,',\n",
       " 'the',\n",
       " 'acceleration',\n",
       " 'is',\n",
       " 'the',\n",
       " 'second',\n",
       " 'derivative',\n",
       " 'of',\n",
       " 'position,[7]',\n",
       " 'often',\n",
       " 'written',\n",
       " 'd',\n",
       " '2',\n",
       " 's',\n",
       " 'd',\n",
       " 't',\n",
       " '2',\n",
       " '{\\\\displaystyle',\n",
       " '{\\x0crac',\n",
       " '{d^{2}s}{dt^{2}}}}.\\n\\nPosition,',\n",
       " 'when',\n",
       " 'thought',\n",
       " 'of',\n",
       " 'as',\n",
       " 'a',\n",
       " 'displacement',\n",
       " 'from',\n",
       " 'an',\n",
       " 'origin',\n",
       " 'point,',\n",
       " 'is',\n",
       " 'a',\n",
       " 'vector:',\n",
       " 'a',\n",
       " 'quantity',\n",
       " 'with',\n",
       " 'both',\n",
       " 'magnitude',\n",
       " 'and',\n",
       " 'direction.[9]:\\u200a1\\u200a',\n",
       " 'Velocity',\n",
       " 'and',\n",
       " 'acceleration',\n",
       " 'are',\n",
       " 'vector',\n",
       " 'quantities',\n",
       " 'as',\n",
       " 'well.',\n",
       " 'The',\n",
       " 'mathematical',\n",
       " 'tools',\n",
       " 'of',\n",
       " 'vector',\n",
       " 'algebra',\n",
       " 'provide',\n",
       " 'the',\n",
       " 'means',\n",
       " 'to',\n",
       " 'describe',\n",
       " 'motion',\n",
       " 'in',\n",
       " 'two,',\n",
       " 'three',\n",
       " 'or',\n",
       " 'more',\n",
       " 'dimensions.',\n",
       " 'Vectors',\n",
       " 'are',\n",
       " 'often',\n",
       " 'denoted',\n",
       " 'with',\n",
       " 'an',\n",
       " 'arrow,',\n",
       " 'as',\n",
       " 'in',\n",
       " 's',\n",
       " '{\\\\displaystyle',\n",
       " '\\\\mathbf',\n",
       " '{s}',\n",
       " '},',\n",
       " 'or',\n",
       " 'in',\n",
       " 'bold',\n",
       " 'typeface,',\n",
       " 'such',\n",
       " 'as',\n",
       " 's',\n",
       " '{\\\\displaystyle',\n",
       " '{\\x08f',\n",
       " '{s}}}.',\n",
       " 'Often,',\n",
       " 'vectors',\n",
       " 'are',\n",
       " 'represented',\n",
       " 'visually',\n",
       " 'as',\n",
       " 'arrows,',\n",
       " 'with',\n",
       " 'the',\n",
       " 'direction',\n",
       " 'of',\n",
       " 'the',\n",
       " 'vector',\n",
       " 'being',\n",
       " 'the',\n",
       " 'direction',\n",
       " 'of',\n",
       " 'the',\n",
       " 'arrow,',\n",
       " 'and',\n",
       " 'the',\n",
       " 'magnitude',\n",
       " 'of',\n",
       " 'the',\n",
       " 'vector',\n",
       " 'indicated',\n",
       " 'by',\n",
       " 'the',\n",
       " 'length',\n",
       " 'of',\n",
       " 'the',\n",
       " 'arrow.',\n",
       " 'Numerically,',\n",
       " 'a',\n",
       " 'vector',\n",
       " 'can',\n",
       " 'be',\n",
       " 'represented',\n",
       " 'as',\n",
       " 'a',\n",
       " 'list;',\n",
       " 'for',\n",
       " 'example,',\n",
       " 'a',\n",
       " \"body's\",\n",
       " 'velocity',\n",
       " 'vector',\n",
       " 'might',\n",
       " 'be',\n",
       " 'v',\n",
       " '=',\n",
       " '(',\n",
       " '3',\n",
       " '',\n",
       " '',\n",
       " 'm',\n",
       " '/',\n",
       " 's',\n",
       " ',',\n",
       " '4',\n",
       " '',\n",
       " '',\n",
       " 'm',\n",
       " '/',\n",
       " 's',\n",
       " ')',\n",
       " '{\\\\displaystyle',\n",
       " '\\\\mathbf',\n",
       " '{v}',\n",
       " '=(\\\\mathrm',\n",
       " '{3~m/s}',\n",
       " ',\\\\mathrm',\n",
       " '{4~m/s}',\n",
       " ')},',\n",
       " 'indicating',\n",
       " 'that',\n",
       " 'it',\n",
       " 'is',\n",
       " 'moving',\n",
       " 'at',\n",
       " '3',\n",
       " 'metres',\n",
       " 'per',\n",
       " 'second',\n",
       " 'along',\n",
       " 'the',\n",
       " 'horizontal',\n",
       " 'axis',\n",
       " 'and',\n",
       " '4',\n",
       " 'metres',\n",
       " 'per',\n",
       " 'second',\n",
       " 'along',\n",
       " 'the',\n",
       " 'vertical',\n",
       " 'axis.',\n",
       " 'The',\n",
       " 'same',\n",
       " 'motion',\n",
       " 'described',\n",
       " 'in',\n",
       " 'a',\n",
       " 'different',\n",
       " 'coordinate',\n",
       " 'system',\n",
       " 'will',\n",
       " 'be',\n",
       " 'represented',\n",
       " 'by',\n",
       " 'different',\n",
       " 'numbers,',\n",
       " 'and',\n",
       " 'vector',\n",
       " 'algebra',\n",
       " 'can',\n",
       " 'be',\n",
       " 'used',\n",
       " 'to',\n",
       " 'translate',\n",
       " 'between',\n",
       " 'these',\n",
       " 'alternatives.[9]:\\u200a4\\u200a\\n\\nThe',\n",
       " 'study',\n",
       " 'of',\n",
       " 'mechanics',\n",
       " 'is',\n",
       " 'complicated',\n",
       " 'by',\n",
       " 'the',\n",
       " 'fact',\n",
       " 'that',\n",
       " 'household',\n",
       " 'words',\n",
       " 'like',\n",
       " 'energy',\n",
       " 'are',\n",
       " 'used',\n",
       " 'with',\n",
       " 'a',\n",
       " 'technical',\n",
       " 'meaning.[10]',\n",
       " 'Moreover,',\n",
       " 'words',\n",
       " 'which',\n",
       " 'are',\n",
       " 'synonymous',\n",
       " 'in',\n",
       " 'everyday',\n",
       " 'speech',\n",
       " ...]"
      ]
     },
     "execution_count": 52,
     "metadata": {},
     "output_type": "execute_result"
    }
   ],
   "source": [
    "list_of_words"
   ]
  },
  {
   "cell_type": "code",
   "execution_count": 53,
   "metadata": {},
   "outputs": [
    {
     "data": {
      "text/plain": [
       "4211"
      ]
     },
     "execution_count": 53,
     "metadata": {},
     "output_type": "execute_result"
    }
   ],
   "source": [
    "len(list_of_words)"
   ]
  },
  {
   "cell_type": "code",
   "execution_count": 54,
   "metadata": {},
   "outputs": [],
   "source": [
    "set_of_words = set(list_of_words)"
   ]
  },
  {
   "cell_type": "code",
   "execution_count": 55,
   "metadata": {},
   "outputs": [
    {
     "data": {
      "text/plain": [
       "1247"
      ]
     },
     "execution_count": 55,
     "metadata": {},
     "output_type": "execute_result"
    }
   ],
   "source": [
    "len(set_of_words)"
   ]
  },
  {
   "cell_type": "code",
   "execution_count": 56,
   "metadata": {},
   "outputs": [
    {
     "data": {
      "text/plain": [
       "'\\n'"
      ]
     },
     "execution_count": 56,
     "metadata": {},
     "output_type": "execute_result"
    }
   ],
   "source": [
    "\"\\n\""
   ]
  },
  {
   "cell_type": "code",
   "execution_count": 57,
   "metadata": {},
   "outputs": [],
   "source": [
    "lines = data.split(\"\\n\")"
   ]
  },
  {
   "cell_type": "code",
   "execution_count": 58,
   "metadata": {},
   "outputs": [
    {
     "data": {
      "text/plain": [
       "[\"The three laws of motion were first stated by Isaac Newton in his Philosophiæ Naturalis Principia Mathematica (Mathematical Principles of Natural Philosophy), originally published in 1687.[3] Newton used them to investigate and explain the motion of many physical objects and systems. In the time since Newton, new insights, especially around the concept of energy, built the field of classical mechanics on his foundations. Limitations to Newton's laws have also been discovered; new theories are necessary when objects move at very high speeds (special relativity), are very massive (general relativity), or are very small (quantum mechanics).\",\n",
       " 'Prerequisites',\n",
       " '',\n",
       " \"Newton's laws are often stated in terms of point or particle masses, that is, bodies whose volume is negligible. This is a reasonable approximation for real bodies when the motion of internal parts can be neglected, and when the separation between bodies is much larger than the size of each. For instance, the Earth and the Sun can both be approximated as pointlike when considering the orbit of the former around the latter, but the Earth is not pointlike when considering activities on its surface.[note 1]\",\n",
       " '',\n",
       " 'The mathematical description of motion, or kinematics, is based on the idea of specifying positions using numerical coordinates. Movement is represented by these numbers changing over time: a body\\'s trajectory is represented by a function that assigns to each value of a time variable the values of all the position coordinates. The simplest case is one-dimensional, that is, when a body is constrained to move only along a straight line. Its position can then be given by a single number, indicating where it is relative to some chosen reference point. For example, a body might be free to slide along a track that runs left to right, and so its location can be specified by its distance from a convenient zero point, or origin, with negative numbers indicating positions to the left and positive numbers indicating positions to the right. If the body\\'s location as a function of time is s ( t ) {\\\\displaystyle s(t)}, then its average velocity over the time interval from t 0 {\\\\displaystyle t_{0}} to t 1 {\\\\displaystyle t_{1}} is[6] Δ s Δ t = s ( t 1 ) − s ( t 0 ) t 1 − t 0 . {\\\\displaystyle {\\x0crac {\\\\Delta s}{\\\\Delta t}}={\\x0crac {s(t_{1})-s(t_{0})}{t_{1}-t_{0}}}.}Here, the Greek letter Δ {\\\\displaystyle \\\\Delta } (delta) is used, per tradition, to mean \"change in\". A positive average velocity means that the position coordinate s {\\\\displaystyle s} increases over the interval in question, a negative average velocity indicates a net decrease over that interval, and an average velocity of zero means that the body ends the time interval in the same place as it began. Calculus gives the means to define an instantaneous velocity, a measure of a body\\'s speed and direction of movement at a single moment of time, rather than over an interval. One notation for the instantaneous velocity is to replace Δ {\\\\displaystyle \\\\Delta } with the symbol d {\\\\displaystyle d}, for example, v = d s d t . {\\\\displaystyle v={\\x0crac {ds}{dt}}.}This denotes that the instantaneous velocity is the derivative of the position with respect to time. It can roughly be thought of as the ratio between an infinitesimally small change in position d s {\\\\displaystyle ds} to the infinitesimally small time interval d t {\\\\displaystyle dt} over which it occurs.[7] More carefully, the velocity and all other derivatives can be defined using the concept of a limit.[6] A function f ( t ) {\\\\displaystyle f(t)} has a limit of L {\\\\displaystyle L} at a given input value t 0 {\\\\displaystyle t_{0}} if the difference between f {\\\\displaystyle f} and L {\\\\displaystyle L} can be made arbitrarily small by choosing an input sufficiently close to t 0 {\\\\displaystyle t_{0}}. One writes, lim t → t 0 f ( t ) = L . {\\\\displaystyle \\\\lim _{t\\to t_{0}}f(t)=L.}Instantaneous velocity can be defined as the limit of the average velocity as the time interval shrinks to zero: d s d t = lim Δ t → 0 s ( t + Δ t ) − s ( t ) Δ t . {\\\\displaystyle {\\x0crac {ds}{dt}}=\\\\lim _{\\\\Delta t\\to 0}{\\x0crac {s(t+\\\\Delta t)-s(t)}{\\\\Delta t}}.} Acceleration is to velocity as velocity is to position: it is the derivative of the velocity with respect to time.[note 2] Acceleration can likewise be defined as a limit: a = d v d t = lim Δ t → 0 v ( t + Δ t ) − v ( t ) Δ t . {\\\\displaystyle a={\\x0crac {dv}{dt}}=\\\\lim _{\\\\Delta t\\to 0}{\\x0crac {v(t+\\\\Delta t)-v(t)}{\\\\Delta t}}.}Consequently, the acceleration is the second derivative of position,[7] often written d 2 s d t 2 {\\\\displaystyle {\\x0crac {d^{2}s}{dt^{2}}}}.',\n",
       " '',\n",
       " \"Position, when thought of as a displacement from an origin point, is a vector: a quantity with both magnitude and direction.[9]:\\u200a1\\u200a Velocity and acceleration are vector quantities as well. The mathematical tools of vector algebra provide the means to describe motion in two, three or more dimensions. Vectors are often denoted with an arrow, as in s {\\\\displaystyle \\\\mathbf {s} }, or in bold typeface, such as s {\\\\displaystyle {\\x08f {s}}}. Often, vectors are represented visually as arrows, with the direction of the vector being the direction of the arrow, and the magnitude of the vector indicated by the length of the arrow. Numerically, a vector can be represented as a list; for example, a body's velocity vector might be v = ( 3   m / s , 4   m / s ) {\\\\displaystyle \\\\mathbf {v} =(\\\\mathrm {3~m/s} ,\\\\mathrm {4~m/s} )}, indicating that it is moving at 3 metres per second along the horizontal axis and 4 metres per second along the vertical axis. The same motion described in a different coordinate system will be represented by different numbers, and vector algebra can be used to translate between these alternatives.[9]:\\u200a4\\u200a\",\n",
       " '',\n",
       " 'The study of mechanics is complicated by the fact that household words like energy are used with a technical meaning.[10] Moreover, words which are synonymous in everyday speech are not so in physics: force is not the same as power or pressure, for example, and mass has a different meaning than weight.[11][12]:\\u200a150\\u200a The physics concept of force makes quantitative the everyday idea of a push or a pull. Forces in Newtonian mechanics are often due to strings and ropes, friction, muscle effort, gravity, and so forth. Like displacement, velocity, and acceleration, force is a vector quantity.',\n",
       " 'Laws',\n",
       " 'First law',\n",
       " 'see caption',\n",
       " \"Artificial satellites move along curved orbits, rather than in straight lines, because of the Earth's gravity.\",\n",
       " '',\n",
       " \"Translated from Latin, Newton's first law reads,\",\n",
       " '',\n",
       " '    Every object perseveres in its state of rest, or of uniform motion in a right line, except insofar as it is compelled to change that state by forces impressed thereon.[note 3]',\n",
       " '',\n",
       " \"Newton's first law expresses the principle of inertia: the natural behavior of a body is to move in a straight line at constant speed. A body's motion preserves the status quo, but external forces can perturb this.\",\n",
       " '',\n",
       " 'The modern understanding of Newton\\'s first law is that no inertial observer is privileged over any other. The concept of an inertial observer makes quantitative the everyday idea of feeling no effects of motion. For example, a person standing on the ground watching a train go past is an inertial observer. If the observer on the ground sees the train moving smoothly in a straight line at a constant speed, then a passenger sitting on the train will also be an inertial observer: the train passenger feels no motion. The principle expressed by Newton\\'s first law is that there is no way to say which inertial observer is \"really\" moving and which is \"really\" standing still. One observer\\'s state of rest is another observer\\'s state of uniform motion in a straight line, and no experiment can deem either point of view to be correct or incorrect. There is no absolute standard of rest.[17][14]:\\u200a62–63\\u200a[18]:\\u200a7–9\\u200a Newton himself believed that absolute space and time existed, but that the only measures of space or time accessible to experiment are relative.[19]',\n",
       " 'Second law',\n",
       " '',\n",
       " '    The change of motion of an object is proportional to the force impressed; and is made in the direction of the straight line in which the force is impressed.[14]:\\u200a114\\u200a',\n",
       " '',\n",
       " 'By \"motion\", Newton meant the quantity now called momentum, which depends upon the amount of matter contained in a body, the speed at which that body is moving, and the direction in which it is moving.[20] In modern notation, the momentum of a body is the product of its mass and its velocity: p = m v , {\\\\displaystyle \\\\mathbf {p} =m\\\\mathbf {v} \\\\,,} where all three quantities can change over time. Newton\\'s second law, in modern form, states that the time derivative of the momentum is the force: F = d p d t . {\\\\displaystyle \\\\mathbf {F} ={\\x0crac {d\\\\mathbf {p} }{dt}}\\\\,.} If the mass m {\\\\displaystyle m} does not change with time, then the derivative acts only upon the velocity, and so the force equals the product of the mass and the time derivative of the velocity, which is the acceleration:[21] F = m d v d t = m a . {\\\\displaystyle \\\\mathbf {F} =m{\\x0crac {d\\\\mathbf {v} }{dt}}=m\\\\mathbf {a} \\\\,.} As the acceleration is the second derivative of position with respect to time, this can also be written F = m d 2 s d t 2 . {\\\\displaystyle \\\\mathbf {F} =m{\\x0crac {d^{2}\\\\mathbf {s} }{dt^{2}}}.}',\n",
       " 'A free body diagram for a block on an inclined plane, illustrating the normal force perpendicular to the plane (N), the downward force of gravity (mg), and a force f along the direction of the plane that could be applied, for example, by friction or a string',\n",
       " '',\n",
       " \"The forces acting on a body add as vectors, and so the total force on a body depends upon both the magnitudes and the directions of the individual forces. When the net force on a body is equal to zero, then by Newton's second law, the body does not accelerate, and it is said to be in mechanical equilibrium. A state of mechanical equilibrium is stable if, when the position of the body is changed slightly, the body remains near that equilibrium. Otherwise, the equilibrium is unstable.\",\n",
       " '',\n",
       " 'A common visual representation of forces acting in concert is the free body diagram, which schematically portrays a body of interest and the forces applied to it by outside influences.[22] For example, a free body diagram of a block sitting upon an inclined plane can illustrate the combination of gravitational force, \"normal\" force, friction, and string tension.[note 4]',\n",
       " '',\n",
       " \"Newton's second law is sometimes presented as a definition of force, i.e., a force is that which exists when an inertial observer sees a body accelerating. In order for this to be more than a tautology — acceleration implies force, force implies acceleration — some other statement about force must also be made. For example, an equation detailing the force might be specified, like Newton's law of universal gravitation. By inserting such an expression for F {\\\\displaystyle \\\\mathbf {F} } into Newton's second law, an equation with predictive power can be written.[note 5] Newton's second law has also been regarded as setting out a research program for physics, establishing that important goals of the subject are to identify the forces present in nature and to catalogue the constituents of matter.[14]:\\u200a134\\u200a[25]:\\u200a12-2\\u200a\",\n",
       " 'Third law',\n",
       " '',\n",
       " '    To every action, there is always opposed an equal reaction; or, the mutual actions of two bodies upon each other are always equal, and directed to contrary parts.[14]:\\u200a116\\u200a',\n",
       " '',\n",
       " 'Rockets work by producing a strong reaction force downwards using rocket engines. This pushes the rocket upwards, without regard to the ground or the atmosphere.',\n",
       " '',\n",
       " 'Overly brief paraphrases of the third law, like \"action equals reaction\" might have caused confusion among generations of students: the \"action\" and \"reaction\" apply to different bodies. For example, consider a book at rest on a table. The Earth\\'s gravity pulls down upon the book. The \"reaction\" to that \"action\" is not the support force from the table holding up the book, but the gravitational pull of the book acting on the Earth.[note 6]',\n",
       " '',\n",
       " \"Newton's third law relates to a more fundamental principle, the conservation of momentum. The latter remains true even in cases where Newton's statement does not, for instance when force fields as well as material bodies carry momentum, and when momentum is defined properly, in quantum mechanics as well.[note 7] In Newtonian mechanics, if two bodies have momenta p 1 {\\\\displaystyle \\\\mathbf {p} _{1}} and p 2 {\\\\displaystyle \\\\mathbf {p} _{2}} respectively, then the total momentum of the pair is p = p 1 + p 2 {\\\\displaystyle \\\\mathbf {p} =\\\\mathbf {p} _{1}+\\\\mathbf {p} _{2}}, and the rate of change of p {\\\\displaystyle \\\\mathbf {p} } is d p d t = d p 1 d t + d p 2 d t . {\\\\displaystyle {\\x0crac {d\\\\mathbf {p} }{dt}}={\\x0crac {d\\\\mathbf {p} _{1}}{dt}}+{\\x0crac {d\\\\mathbf {p} _{2}}{dt}}.} By Newton's second law, the first term is the total force upon the first body, and the second term is the total force upon the second body. If the two bodies are isolated from outside influences, the only force upon the first body can be that from the second, and vice versa. By Newton's third law, these forces have equal magnitude but opposite direction, so they cancel when added, and p {\\\\displaystyle \\\\mathbf {p} } is constant. Alternatively, if p {\\\\displaystyle \\\\mathbf {p} } is known to be constant, it follows that the forces have equal magnitude and opposite direction.\",\n",
       " 'Candidates for additional laws',\n",
       " '',\n",
       " 'Various sources have proposed elevating other ideas used in classical mechanics to the status of Newton\\'s laws. For example, in Newtonian mechanics, the total mass of a body made by bringing together two smaller bodies is the sum of their individual masses. Frank Wilczek has suggested calling attention to this assumption by designating it \"Newton\\'s Zeroth Law\".[33] Another candidate for a \"zeroth law\" is the fact that at any instant, a body reacts to the forces applied to it at that instant.[34] Likewise, the idea that forces add like vectors (or in other words obey the superposition principle), and the idea that forces change the energy of a body, have both been described as a \"fourth law\".[note 8]',\n",
       " 'Examples',\n",
       " '',\n",
       " \"The study of the behavior of massive bodies using Newton's laws is known as Newtonian mechanics. Some example problems in Newtonian mechanics are particularly noteworthy for conceptual or historical reasons.\",\n",
       " 'Uniformly accelerated motion',\n",
       " 'Main articles: Free fall and Projectile motion',\n",
       " \"A bouncing ball photographed at 25 frames per second using a stroboscopic flash. In between bounces, the ball's height as a function of time is close to being a parabola, deviating from a parabolic arc because of air resistance, spin, and deformation into a non-spherical shape upon impact.\",\n",
       " '',\n",
       " \"If a body falls from rest near the surface of the Earth, then in the absence of air resistance, it will accelerate at a constant rate. This is known as free fall. The speed attained during free fall is proportional to the elapsed time, and the distance traveled is proportional to the square of the elapsed time.[39] Importantly, the acceleration is the same for all bodies, independently of their mass. This follows from combining Newton's second law of motion with his law of universal gravitation. The latter states that the magnitude of the gravitational force from the Earth upon the body is F = G M m r 2 , {\\\\displaystyle F={\\x0crac {GMm}{r^{2}}},} where m {\\\\displaystyle m} is the mass of the falling body, M {\\\\displaystyle M} is the mass of the Earth, G {\\\\displaystyle G} is Newton's constant, and r {\\\\displaystyle r} is the distance from the center of the Earth to the body's location, which is very nearly the radius of the Earth. Setting this equal to m a {\\\\displaystyle ma}, the body's mass m {\\\\displaystyle m} cancels from both sides of the equation, leaving an acceleration that depends upon G {\\\\displaystyle G}, M {\\\\displaystyle M}, and r {\\\\displaystyle r}, and r {\\\\displaystyle r} can be taken to be constant. This particular value of acceleration is typically denoted g {\\\\displaystyle g}: g = G M r 2 ≈ 9.8   m / s 2 . {\\\\displaystyle g={\\x0crac {GM}{r^{2}}}\\x07pprox \\\\mathrm {9.8~m/s^{2}} .}\",\n",
       " '',\n",
       " \"If the body is not released from rest but instead launched upwards and/or horizontally with nonzero velocity, then free fall becomes projectile motion.[40] When air resistance can be neglected, projectiles follow parabola-shaped trajectories, because gravity affects the body's vertical motion and not its horizontal. At the peak of the projectile's trajectory, its vertical velocity is zero, but its acceleration is g {\\\\displaystyle g} downwards, as it is at all times. Setting the wrong vector equal to zero is a common confusion among physics students.[41]\",\n",
       " 'Uniform circular motion',\n",
       " 'Main article: Circular motion',\n",
       " 'Two objects in uniform circular motion, orbiting around the barycenter (center of mass of both objects)',\n",
       " '',\n",
       " \"When a body is in uniform circular motion, the force on it changes the direction of its motion but not its speed. For a body moving in a circle of radius r {\\\\displaystyle r} at a constant speed v {\\\\displaystyle v}, its acceleration has a magnitude a = v 2 r {\\\\displaystyle a={\\x0crac {v^{2}}{r}}}and is directed toward the center of the circle.[note 9] The force required to sustain this acceleration, called the centripetal force, is therefore also directed toward the center of the circle and has magnitude m v 2 / r {\\\\displaystyle mv^{2}/r}. Many orbits, such as that of the Moon around the Earth, can be approximated by uniform circular motion. In such cases, the centripetal force is gravity, and by Newton's law of universal gravitation has magnitude G M m / r 2 {\\\\displaystyle GMm/r^{2}}, where M {\\\\displaystyle M} is the mass of the larger body being orbited. Therefore, the mass of a body can be calculated from observations of another body orbiting around it.[43]:\\u200a130\\u200a\",\n",
       " '',\n",
       " \"Newton's cannonball is a thought experiment that interpolates between projectile motion and uniform circular motion. A cannonball that is lobbed weakly off the edge of a tall cliff will hit the ground in the same amount of time as if it were dropped from rest, because the force of gravity only affects the cannonball's momentum in the downward direction, and its effect is not diminished by horizontal movement. If the cannonball is launched with a greater initial horizontal velocity, then it will travel farther before it hits the ground, but it will still hit the ground in the same amount of time. However, if the cannonball is launched with an even larger initial velocity, then the curvature of the Earth becomes significant: the ground itself will curve away from the falling cannonball. A very fast cannonball will fall away from the inertial straight-line trajectory at the same rate that the Earth curves away beneath it; in other words, it will be in orbit (imagining that it is not slowed by air resistance or obstacles).[44]\",\n",
       " 'Harmonic motion',\n",
       " 'Main article: Harmonic oscillator',\n",
       " 'An undamped spring–mass system undergoes simple harmonic motion.',\n",
       " '',\n",
       " \"Consider a body of mass m {\\\\displaystyle m} able to move along the x {\\\\displaystyle x} axis, and suppose an equilibrium point exists at the position x = 0 {\\\\displaystyle x=0}. That is, at x = 0 {\\\\displaystyle x=0}, the net force upon the body is the zero vector, and by Newton's second law, the body will not accelerate. If the force upon the body is proportional to the displacement from the equilibrium point, and directed to the equilibrium point, then the body will perform simple harmonic motion. Writing the force as F = − k x {\\\\displaystyle F=-kx}, Newton's second law becomes m d 2 x d t 2 = − k x . {\\\\displaystyle m{\\x0crac {d^{2}x}{dt^{2}}}=-kx\\\\,.} This differential equation has the solution x ( t ) = A cos \\u2061 ω t + B sin \\u2061 ω t {\\\\displaystyle x(t)=A\\\\cos \\\\omega t+B\\\\sin \\\\omega t\\\\,} where the frequency ω {\\\\displaystyle \\\\omega } is equal to k / m {\\\\displaystyle {\\\\sqrt {k/m}}}, and the constants A {\\\\displaystyle A} and B {\\\\displaystyle B} can be calculated knowing, for example, the position and velocity the body has at a given time, like t = 0 {\\\\displaystyle t=0}.\",\n",
       " '',\n",
       " \"One reason that the harmonic oscillator is a conceptually important example is that it is good approximation for many systems near a stable mechanical equilibrium.[note 10] For example, a pendulum has a stable equilibrium in the vertical position: if motionless there, it will remain there, and if pushed slightly, it will swing back and forth. Neglecting air resistance and friction in the pivot, the force upon the pendulum is gravity, and Newton's second law becomes d 2 θ d t 2 = − g L sin \\u2061 θ , {\\\\displaystyle {\\x0crac {d^{2}\\theta }{dt^{2}}}=-{\\x0crac {g}{L}}\\\\sin \\theta ,}where L {\\\\displaystyle L} is the length of the pendulum and θ {\\\\displaystyle \\theta } is its angle from the vertical. When the angle θ {\\\\displaystyle \\theta } is small, the sine of θ {\\\\displaystyle \\theta } is nearly equal to θ {\\\\displaystyle \\theta } (see Taylor series), and so this expression simplifies to the equation for a simple harmonic oscillator with frequency ω = g / L {\\\\displaystyle \\\\omega ={\\\\sqrt {g/L}}}.\",\n",
       " '',\n",
       " 'A harmonic oscillator can be damped, often by friction or viscous drag, in which case energy bleeds out of the oscillator and the amplitude of the oscillations decreases over time. Also, a harmonic oscillator can be driven by an applied force, which can lead to the phenomenon of resonance.[46]',\n",
       " 'Objects with variable mass',\n",
       " 'Main article: Variable-mass system',\n",
       " 'Rockets, like the Space Shuttle Atlantis, propel matter in one direction to push the craft in the other. This means that the mass being pushed, the rocket and its remaining onboard fuel supply, is constantly changing.',\n",
       " '',\n",
       " \"Newtonian physics treats matter as being neither created nor destroyed, though it may be rearranged. It can be the case that an object of interest gains or loses mass because matter is added to or removed from it. In such a situation, Newton's laws can be applied to the individual pieces of matter, keeping track of which pieces belong to the object of interest over time. For instance, if a rocket of mass M ( t ) {\\\\displaystyle M(t)}, moving at velocity v ( t ) {\\\\displaystyle \\\\mathbf {v} (t)}, ejects matter at a velocity u {\\\\displaystyle \\\\mathbf {u} } relative to the rocket, then F = M d v d t − u d M d t {\\\\displaystyle \\\\mathbf {F} =M{\\x0crac {d\\\\mathbf {v} }{dt}}-\\\\mathbf {u} {\\x0crac {dM}{dt}}\\\\,} where F {\\\\displaystyle \\\\mathbf {F} } is the net external force (e.g., a planet's gravitational pull).[23]:\\u200a139\\u200a\",\n",
       " 'Work and energy',\n",
       " '',\n",
       " 'Physicists developed the concept of energy after Newton\\'s time, but it has become an inseparable part of what is considered \"Newtonian\" physics. Energy can broadly be classified into kinetic, due to a body\\'s motion, and potential, due to a body\\'s position relative to others. Thermal energy, the energy carried by heat flow, is a type of kinetic energy not associated with the macroscopic motion of objects but instead with the movements of the atoms and molecules of which they are made. According to the work-energy theorem, when a force acts upon a body while that body moves along the line of the force, the force does work upon the body, and the amount of work done is equal to the change in the body\\'s kinetic energy.[note 11] In many cases of interest, the net work done by a force when a body moves in a closed loop — starting at a point, moving along some trajectory, and returning to the initial point — is zero. If this is the case, then the force can be written in terms of the gradient of a function called a scalar potential:[42]:\\u200a303\\u200a F = − ∇ U . {\\\\displaystyle \\\\mathbf {F} =-\\\\mathbf {',\n",
       " \"abla } U\\\\,.} This is true for many forces including that of gravity, but not for friction; indeed, almost any problem in a mechanics textbook that does not involve friction can be expressed in this way.[45]:\\u200a19\\u200a The fact that the force can be written in this way can be understood from the conservation of energy. Without friction to dissipate a body's energy into heat, the body's energy will trade between potential and (non-thermal) kinetic forms while the total amount remains constant. Any gain of kinetic energy, which occurs when the net force on the body accelerates it to a higher speed, must be accompanied by a loss of potential energy. So, the net force upon the body is determined by the manner in which the potential energy decreases.\",\n",
       " 'Rigid-body motion and rotation',\n",
       " '',\n",
       " \"A rigid body is an object whose size is too large to neglect and which maintains the same shape over time. In Newtonian mechanics, the motion of a rigid body is often understood by separating it into movement of the body's center of mass and movement around the center of mass.\",\n",
       " 'Center of mass',\n",
       " 'Main article: Center of mass',\n",
       " 'Fork-cork-toothpick object balanced on a pen on the toothpick part',\n",
       " \"The total center of mass of the forks, cork, and toothpick is on top of the pen's tip.\",\n",
       " '',\n",
       " 'Significant aspects of the motion of an extended body can be understood by ',\n",
       " 'imagining the mass ofhat body concentrated to a single point, known as the ce',\n",
       " \"nter of mass. The location of a body's center of mass depends upon how that body's m\",\n",
       " 'aterial is distributed. For a collection of pointlike objects with masses m 1 , … , m N {\\\\displaysty ']"
      ]
     },
     "execution_count": 58,
     "metadata": {},
     "output_type": "execute_result"
    }
   ],
   "source": [
    "lines"
   ]
  },
  {
   "cell_type": "code",
   "execution_count": 59,
   "metadata": {},
   "outputs": [
    {
     "data": {
      "text/plain": [
       "93"
      ]
     },
     "execution_count": 59,
     "metadata": {},
     "output_type": "execute_result"
    }
   ],
   "source": [
    "len(lines)"
   ]
  },
  {
   "cell_type": "code",
   "execution_count": 60,
   "metadata": {},
   "outputs": [
    {
     "name": "stdout",
     "output_type": "stream",
     "text": [
      "Hello all \n",
      "How is everybody\n"
     ]
    }
   ],
   "source": [
    "print(\"Hello all \\nHow is everybody\")"
   ]
  },
  {
   "cell_type": "markdown",
   "metadata": {},
   "source": [
    "## Dictionary\n",
    "\n",
    "- key:value\n",
    "\n",
    "- rules for keys\n",
    "\n",
    "- can store anything as a value: str, int, float, dict, list, tuple,set\n",
    "\n",
    "- {-:-} => key:value pair\n",
    "\n",
    "- mutable"
   ]
  },
  {
   "cell_type": "code",
   "execution_count": 61,
   "metadata": {},
   "outputs": [],
   "source": [
    "d = {}"
   ]
  },
  {
   "cell_type": "code",
   "execution_count": 62,
   "metadata": {},
   "outputs": [
    {
     "data": {
      "text/plain": [
       "{}"
      ]
     },
     "execution_count": 62,
     "metadata": {},
     "output_type": "execute_result"
    }
   ],
   "source": [
    "d"
   ]
  },
  {
   "cell_type": "code",
   "execution_count": 63,
   "metadata": {},
   "outputs": [
    {
     "data": {
      "text/plain": [
       "dict"
      ]
     },
     "execution_count": 63,
     "metadata": {},
     "output_type": "execute_result"
    }
   ],
   "source": [
    "type(d)"
   ]
  },
  {
   "cell_type": "code",
   "execution_count": 64,
   "metadata": {},
   "outputs": [],
   "source": [
    "d = {1}"
   ]
  },
  {
   "cell_type": "code",
   "execution_count": 65,
   "metadata": {},
   "outputs": [
    {
     "data": {
      "text/plain": [
       "set"
      ]
     },
     "execution_count": 65,
     "metadata": {},
     "output_type": "execute_result"
    }
   ],
   "source": [
    "type(d)"
   ]
  },
  {
   "cell_type": "code",
   "execution_count": 66,
   "metadata": {},
   "outputs": [],
   "source": [
    "d = {\"name\":\"Jaiyesh\"}"
   ]
  },
  {
   "cell_type": "code",
   "execution_count": 67,
   "metadata": {},
   "outputs": [
    {
     "data": {
      "text/plain": [
       "dict"
      ]
     },
     "execution_count": 67,
     "metadata": {},
     "output_type": "execute_result"
    }
   ],
   "source": [
    "type(d)"
   ]
  },
  {
   "cell_type": "code",
   "execution_count": 68,
   "metadata": {},
   "outputs": [],
   "source": [
    "d = {\"name\":\"Jaiyesh\",\"age\":\"xyz\",\"number\":545454,\"mail id\":\"abc@xyz\"}"
   ]
  },
  {
   "cell_type": "code",
   "execution_count": 69,
   "metadata": {},
   "outputs": [
    {
     "data": {
      "text/plain": [
       "{'name': 'Jaiyesh', 'age': 'xyz', 'number': 545454, 'mail id': 'abc@xyz'}"
      ]
     },
     "execution_count": 69,
     "metadata": {},
     "output_type": "execute_result"
    }
   ],
   "source": [
    "d"
   ]
  },
  {
   "cell_type": "code",
   "execution_count": 70,
   "metadata": {},
   "outputs": [
    {
     "data": {
      "text/plain": [
       "545454"
      ]
     },
     "execution_count": 70,
     "metadata": {},
     "output_type": "execute_result"
    }
   ],
   "source": [
    "d[\"number\"]"
   ]
  },
  {
   "cell_type": "code",
   "execution_count": 72,
   "metadata": {},
   "outputs": [],
   "source": [
    "rock_properties = {\"porosity\":0.35,\"Permeability\":150,\"lithology\":\"Limestone\"}"
   ]
  },
  {
   "cell_type": "code",
   "execution_count": 73,
   "metadata": {},
   "outputs": [
    {
     "data": {
      "text/plain": [
       "{'porosity': 0.35, 'Permeability': 150, 'lithology': 'Limestone'}"
      ]
     },
     "execution_count": 73,
     "metadata": {},
     "output_type": "execute_result"
    }
   ],
   "source": [
    "rock_properties"
   ]
  },
  {
   "cell_type": "code",
   "execution_count": 74,
   "metadata": {},
   "outputs": [
    {
     "data": {
      "text/plain": [
       "'Limestone'"
      ]
     },
     "execution_count": 74,
     "metadata": {},
     "output_type": "execute_result"
    }
   ],
   "source": [
    "rock_properties[\"lithology\"]"
   ]
  },
  {
   "cell_type": "code",
   "execution_count": 75,
   "metadata": {},
   "outputs": [
    {
     "ename": "KeyError",
     "evalue": "2",
     "output_type": "error",
     "traceback": [
      "\u001b[1;31m---------------------------------------------------------------------------\u001b[0m",
      "\u001b[1;31mKeyError\u001b[0m                                  Traceback (most recent call last)",
      "\u001b[1;32m<ipython-input-75-041a9bb71e48>\u001b[0m in \u001b[0;36m<module>\u001b[1;34m\u001b[0m\n\u001b[1;32m----> 1\u001b[1;33m \u001b[0mrock_properties\u001b[0m\u001b[1;33m[\u001b[0m\u001b[1;36m2\u001b[0m\u001b[1;33m]\u001b[0m\u001b[1;33m\u001b[0m\u001b[1;33m\u001b[0m\u001b[0m\n\u001b[0m",
      "\u001b[1;31mKeyError\u001b[0m: 2"
     ]
    }
   ],
   "source": [
    "rock_properties[2]"
   ]
  },
  {
   "cell_type": "markdown",
   "metadata": {},
   "source": [
    "### keys must be unique:\n",
    "\n",
    "- repeat a key,value will be update to last data"
   ]
  },
  {
   "cell_type": "code",
   "execution_count": 76,
   "metadata": {},
   "outputs": [],
   "source": [
    "rock_properties = {\"porosity\":0.35,\"Permeability\":150,\"lithology\":\"Limestone\",\n",
    "                  \"porosity\":0.4,\"lithology\":\"Shale\"}"
   ]
  },
  {
   "cell_type": "code",
   "execution_count": 77,
   "metadata": {},
   "outputs": [
    {
     "data": {
      "text/plain": [
       "{'porosity': 0.4, 'Permeability': 150, 'lithology': 'Shale'}"
      ]
     },
     "execution_count": 77,
     "metadata": {},
     "output_type": "execute_result"
    }
   ],
   "source": [
    "rock_properties"
   ]
  },
  {
   "cell_type": "code",
   "execution_count": 78,
   "metadata": {},
   "outputs": [],
   "source": [
    "## Keys can be a number, string, or a fload\n"
   ]
  },
  {
   "cell_type": "code",
   "execution_count": 81,
   "metadata": {},
   "outputs": [],
   "source": [
    "d1 = {2.7:\"drilling\",3:\"reservoir\"}"
   ]
  },
  {
   "cell_type": "code",
   "execution_count": 82,
   "metadata": {},
   "outputs": [
    {
     "data": {
      "text/plain": [
       "'drilling'"
      ]
     },
     "execution_count": 82,
     "metadata": {},
     "output_type": "execute_result"
    }
   ],
   "source": [
    "d1[2.7]"
   ]
  },
  {
   "cell_type": "code",
   "execution_count": 84,
   "metadata": {},
   "outputs": [],
   "source": [
    "d1 = {2.7:\"drilling\",3:\"reservoir\",\"list\":[34,34,21,54,65,[\"hello\",\"perm\"]],\"tuple\":(98,454,23,54,23,564),\n",
    "     \"anything\":{\"poro\":0.45,\"drilling\":\"45 degree\"}}"
   ]
  },
  {
   "cell_type": "code",
   "execution_count": 85,
   "metadata": {},
   "outputs": [
    {
     "data": {
      "text/plain": [
       "{2.7: 'drilling',\n",
       " 3: 'reservoir',\n",
       " 'list': [34, 34, 21, 54, 65, ['hello', 'perm']],\n",
       " 'tuple': (98, 454, 23, 54, 23, 564),\n",
       " 'anything': {'poro': 0.45, 'drilling': '45 degree'}}"
      ]
     },
     "execution_count": 85,
     "metadata": {},
     "output_type": "execute_result"
    }
   ],
   "source": [
    "d1"
   ]
  },
  {
   "cell_type": "code",
   "execution_count": 86,
   "metadata": {},
   "outputs": [
    {
     "data": {
      "text/plain": [
       "{'poro': 0.45, 'drilling': '45 degree'}"
      ]
     },
     "execution_count": 86,
     "metadata": {},
     "output_type": "execute_result"
    }
   ],
   "source": [
    "d1[\"anything\"]"
   ]
  },
  {
   "cell_type": "code",
   "execution_count": 87,
   "metadata": {},
   "outputs": [
    {
     "data": {
      "text/plain": [
       "0.45"
      ]
     },
     "execution_count": 87,
     "metadata": {},
     "output_type": "execute_result"
    }
   ],
   "source": [
    "d1[\"anything\"][\"poro\"]"
   ]
  },
  {
   "cell_type": "code",
   "execution_count": 88,
   "metadata": {},
   "outputs": [
    {
     "data": {
      "text/plain": [
       "[34, 34, 21, 54, 65, ['hello', 'perm']]"
      ]
     },
     "execution_count": 88,
     "metadata": {},
     "output_type": "execute_result"
    }
   ],
   "source": [
    "d1[\"list\"]"
   ]
  },
  {
   "cell_type": "code",
   "execution_count": 89,
   "metadata": {},
   "outputs": [
    {
     "data": {
      "text/plain": [
       "{'porosity': 0.4, 'Permeability': 150, 'lithology': 'Shale'}"
      ]
     },
     "execution_count": 89,
     "metadata": {},
     "output_type": "execute_result"
    }
   ],
   "source": [
    "rock_properties\n"
   ]
  },
  {
   "cell_type": "code",
   "execution_count": 91,
   "metadata": {},
   "outputs": [],
   "source": [
    "rock_properties[\"lithology\"] = \"Sandstone\""
   ]
  },
  {
   "cell_type": "code",
   "execution_count": 92,
   "metadata": {},
   "outputs": [
    {
     "data": {
      "text/plain": [
       "{'porosity': 0.4, 'Permeability': 150, 'lithology': 'Sandstone'}"
      ]
     },
     "execution_count": 92,
     "metadata": {},
     "output_type": "execute_result"
    }
   ],
   "source": [
    "rock_properties"
   ]
  },
  {
   "cell_type": "code",
   "execution_count": 93,
   "metadata": {},
   "outputs": [],
   "source": [
    "rock_properties[\"Saturation\"] = 0.34"
   ]
  },
  {
   "cell_type": "code",
   "execution_count": 94,
   "metadata": {},
   "outputs": [
    {
     "data": {
      "text/plain": [
       "{'porosity': 0.4,\n",
       " 'Permeability': 150,\n",
       " 'lithology': 'Sandstone',\n",
       " 'Saturation': 0.34}"
      ]
     },
     "execution_count": 94,
     "metadata": {},
     "output_type": "execute_result"
    }
   ],
   "source": [
    "rock_properties"
   ]
  },
  {
   "cell_type": "code",
   "execution_count": 95,
   "metadata": {},
   "outputs": [
    {
     "data": {
      "text/plain": [
       "dict_keys(['porosity', 'Permeability', 'lithology', 'Saturation'])"
      ]
     },
     "execution_count": 95,
     "metadata": {},
     "output_type": "execute_result"
    }
   ],
   "source": [
    "rock_properties.keys()"
   ]
  },
  {
   "cell_type": "code",
   "execution_count": 96,
   "metadata": {},
   "outputs": [
    {
     "data": {
      "text/plain": [
       "dict_values([0.4, 150, 'Sandstone', 0.34])"
      ]
     },
     "execution_count": 96,
     "metadata": {},
     "output_type": "execute_result"
    }
   ],
   "source": [
    "rock_properties.values()"
   ]
  },
  {
   "cell_type": "code",
   "execution_count": 97,
   "metadata": {},
   "outputs": [
    {
     "data": {
      "text/plain": [
       "{'porosity': 0.4,\n",
       " 'Permeability': 150,\n",
       " 'lithology': 'Sandstone',\n",
       " 'Saturation': 0.34}"
      ]
     },
     "execution_count": 97,
     "metadata": {},
     "output_type": "execute_result"
    }
   ],
   "source": [
    "rock_properties"
   ]
  },
  {
   "cell_type": "code",
   "execution_count": 98,
   "metadata": {},
   "outputs": [
    {
     "data": {
      "text/plain": [
       "150"
      ]
     },
     "execution_count": 98,
     "metadata": {},
     "output_type": "execute_result"
    }
   ],
   "source": [
    "rock_properties.pop(\"Permeability\")"
   ]
  },
  {
   "cell_type": "code",
   "execution_count": 99,
   "metadata": {},
   "outputs": [
    {
     "data": {
      "text/plain": [
       "{'porosity': 0.4, 'lithology': 'Sandstone', 'Saturation': 0.34}"
      ]
     },
     "execution_count": 99,
     "metadata": {},
     "output_type": "execute_result"
    }
   ],
   "source": [
    "rock_properties"
   ]
  },
  {
   "cell_type": "code",
   "execution_count": 100,
   "metadata": {},
   "outputs": [],
   "source": [
    "rock_properties= {\n",
    "    \n",
    "    \"Well A\": {\"Porosity\":0.3,\"Permeability\":12,\"Lithology\":\"Shale\"},\n",
    "    \"Well B\": {\"Porosity\":0.13,\"Permeability\":1,\"Lithology\":\"Sandstone\"},\n",
    "    \"Well C\": {\"Porosity\":0.23,\"Permeability\":120,\"Lithology\":\"Limestone\"}\n",
    "    \n",
    "    \n",
    "}"
   ]
  },
  {
   "cell_type": "code",
   "execution_count": 101,
   "metadata": {},
   "outputs": [
    {
     "data": {
      "text/plain": [
       "{'Well A': {'Porosity': 0.3, 'Permeability': 12, 'Lithology': 'Shale'},\n",
       " 'Well B': {'Porosity': 0.13, 'Permeability': 1, 'Lithology': 'Sandstone'},\n",
       " 'Well C': {'Porosity': 0.23, 'Permeability': 120, 'Lithology': 'Limestone'}}"
      ]
     },
     "execution_count": 101,
     "metadata": {},
     "output_type": "execute_result"
    }
   ],
   "source": [
    "rock_properties"
   ]
  },
  {
   "cell_type": "code",
   "execution_count": 102,
   "metadata": {},
   "outputs": [
    {
     "data": {
      "text/plain": [
       "1"
      ]
     },
     "execution_count": 102,
     "metadata": {},
     "output_type": "execute_result"
    }
   ],
   "source": [
    "rock_properties[\"Well B\"][\"Permeability\"]"
   ]
  },
  {
   "cell_type": "markdown",
   "metadata": {},
   "source": [
    "## Summary of Data Structure:\n",
    "\n",
    "1. List: mutable, empty lsit can be used to populate later, [----]\n",
    "\n",
    "2. tuple: immutable, sensitive data, (---)\n",
    "\n",
    "3. Sets: uniordered, no duplication, mutable, {--}\n",
    "\n",
    "4. Dictionary: Key:Value, mutable, {\"key\":\"value\"}"
   ]
  },
  {
   "cell_type": "markdown",
   "metadata": {},
   "source": [
    "## for loops: utilose the power of compuation and iterations"
   ]
  },
  {
   "cell_type": "code",
   "execution_count": 103,
   "metadata": {},
   "outputs": [],
   "source": [
    "poro = [0.2,0.4,0.7]"
   ]
  },
  {
   "cell_type": "code",
   "execution_count": 104,
   "metadata": {},
   "outputs": [
    {
     "name": "stdout",
     "output_type": "stream",
     "text": [
      "0.2\n",
      "0.4\n",
      "0.7\n"
     ]
    }
   ],
   "source": [
    "print(poro[0])\n",
    "print(poro[1])\n",
    "print(poro[2])"
   ]
  },
  {
   "cell_type": "code",
   "execution_count": 105,
   "metadata": {},
   "outputs": [
    {
     "name": "stdout",
     "output_type": "stream",
     "text": [
      "0.2\n",
      "0.4\n",
      "0.7\n"
     ]
    }
   ],
   "source": [
    "for i in poro:\n",
    "    print(i)"
   ]
  },
  {
   "cell_type": "code",
   "execution_count": 106,
   "metadata": {},
   "outputs": [],
   "source": [
    "perm = [23,32,12,43,65,34,23]\n"
   ]
  },
  {
   "cell_type": "code",
   "execution_count": 109,
   "metadata": {},
   "outputs": [],
   "source": [
    "perm.sort(reverse=True)"
   ]
  },
  {
   "cell_type": "code",
   "execution_count": 110,
   "metadata": {},
   "outputs": [
    {
     "data": {
      "text/plain": [
       "[65, 43, 34, 32, 23, 23, 12]"
      ]
     },
     "execution_count": 110,
     "metadata": {},
     "output_type": "execute_result"
    }
   ],
   "source": [
    "perm"
   ]
  },
  {
   "cell_type": "code",
   "execution_count": null,
   "metadata": {},
   "outputs": [],
   "source": []
  }
 ],
 "metadata": {
  "kernelspec": {
   "display_name": "Python 3",
   "language": "python",
   "name": "python3"
  },
  "language_info": {
   "codemirror_mode": {
    "name": "ipython",
    "version": 3
   },
   "file_extension": ".py",
   "mimetype": "text/x-python",
   "name": "python",
   "nbconvert_exporter": "python",
   "pygments_lexer": "ipython3",
   "version": "3.7.4"
  }
 },
 "nbformat": 4,
 "nbformat_minor": 2
}
